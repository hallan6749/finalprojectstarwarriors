{
 "cells": [
  {
   "cell_type": "code",
   "execution_count": 1,
   "id": "41e5ea24",
   "metadata": {},
   "outputs": [],
   "source": [
    "import numpy as np\n",
    "import pandas as pd\n",
    "import seaborn as sns\n",
    "import scipy\n",
    "from scipy import stats\n",
    "from statsmodels.stats.multicomp import pairwise_tukeyhsd\n",
    "from statsmodels.stats.multicomp import MultiComparison\n",
    "from statsmodels.stats.proportion import proportions_ztest\n",
    "from statsmodels.stats.proportion import proportions_chisquare\n"
   ]
  },
  {
   "cell_type": "code",
   "execution_count": 3,
   "id": "389535ae",
   "metadata": {},
   "outputs": [
    {
     "data": {
      "text/html": [
       "<div>\n",
       "<style scoped>\n",
       "    .dataframe tbody tr th:only-of-type {\n",
       "        vertical-align: middle;\n",
       "    }\n",
       "\n",
       "    .dataframe tbody tr th {\n",
       "        vertical-align: top;\n",
       "    }\n",
       "\n",
       "    .dataframe thead th {\n",
       "        text-align: right;\n",
       "    }\n",
       "</style>\n",
       "<table border=\"1\" class=\"dataframe\">\n",
       "  <thead>\n",
       "    <tr style=\"text-align: right;\">\n",
       "      <th></th>\n",
       "      <th>Unnamed: 0</th>\n",
       "      <th>Cancer_id</th>\n",
       "      <th>Name</th>\n",
       "      <th>Category</th>\n",
       "      <th>State_name</th>\n",
       "      <th>Race_name</th>\n",
       "      <th>Count</th>\n",
       "      <th>Percentage population below poverty</th>\n",
       "      <th>Percentage population insured</th>\n",
       "      <th>Population</th>\n",
       "    </tr>\n",
       "  </thead>\n",
       "  <tbody>\n",
       "    <tr>\n",
       "      <th>0</th>\n",
       "      <td>107</td>\n",
       "      <td>27010</td>\n",
       "      <td>Cervix Uteri</td>\n",
       "      <td>Female Genital System</td>\n",
       "      <td>Alabama</td>\n",
       "      <td>American Indian or Alaska Native</td>\n",
       "      <td>0</td>\n",
       "      <td>18.4</td>\n",
       "      <td>89.2</td>\n",
       "      <td>4874747</td>\n",
       "    </tr>\n",
       "    <tr>\n",
       "      <th>1</th>\n",
       "      <td>108</td>\n",
       "      <td>27010</td>\n",
       "      <td>Cervix Uteri</td>\n",
       "      <td>Female Genital System</td>\n",
       "      <td>Alabama</td>\n",
       "      <td>Black or African American</td>\n",
       "      <td>77</td>\n",
       "      <td>18.4</td>\n",
       "      <td>89.2</td>\n",
       "      <td>4874747</td>\n",
       "    </tr>\n",
       "    <tr>\n",
       "      <th>2</th>\n",
       "      <td>109</td>\n",
       "      <td>27010</td>\n",
       "      <td>Cervix Uteri</td>\n",
       "      <td>Female Genital System</td>\n",
       "      <td>Alabama</td>\n",
       "      <td>White</td>\n",
       "      <td>152</td>\n",
       "      <td>18.4</td>\n",
       "      <td>89.2</td>\n",
       "      <td>4874747</td>\n",
       "    </tr>\n",
       "    <tr>\n",
       "      <th>3</th>\n",
       "      <td>110</td>\n",
       "      <td>27020</td>\n",
       "      <td>Corpus Uteri</td>\n",
       "      <td>Female Genital System</td>\n",
       "      <td>Alabama</td>\n",
       "      <td>American Indian or Alaska Native</td>\n",
       "      <td>0</td>\n",
       "      <td>18.4</td>\n",
       "      <td>89.2</td>\n",
       "      <td>4874747</td>\n",
       "    </tr>\n",
       "    <tr>\n",
       "      <th>4</th>\n",
       "      <td>111</td>\n",
       "      <td>27020</td>\n",
       "      <td>Corpus Uteri</td>\n",
       "      <td>Female Genital System</td>\n",
       "      <td>Alabama</td>\n",
       "      <td>Black or African American</td>\n",
       "      <td>154</td>\n",
       "      <td>18.4</td>\n",
       "      <td>89.2</td>\n",
       "      <td>4874747</td>\n",
       "    </tr>\n",
       "  </tbody>\n",
       "</table>\n",
       "</div>"
      ],
      "text/plain": [
       "   Unnamed: 0  Cancer_id          Name               Category State_name  \\\n",
       "0         107      27010  Cervix Uteri  Female Genital System    Alabama   \n",
       "1         108      27010  Cervix Uteri  Female Genital System    Alabama   \n",
       "2         109      27010  Cervix Uteri  Female Genital System    Alabama   \n",
       "3         110      27020  Corpus Uteri  Female Genital System    Alabama   \n",
       "4         111      27020  Corpus Uteri  Female Genital System    Alabama   \n",
       "\n",
       "                          Race_name  Count  \\\n",
       "0  American Indian or Alaska Native      0   \n",
       "1         Black or African American     77   \n",
       "2                             White    152   \n",
       "3  American Indian or Alaska Native      0   \n",
       "4         Black or African American    154   \n",
       "\n",
       "   Percentage population below poverty  Percentage population insured  \\\n",
       "0                                 18.4                           89.2   \n",
       "1                                 18.4                           89.2   \n",
       "2                                 18.4                           89.2   \n",
       "3                                 18.4                           89.2   \n",
       "4                                 18.4                           89.2   \n",
       "\n",
       "   Population  \n",
       "0     4874747  \n",
       "1     4874747  \n",
       "2     4874747  \n",
       "3     4874747  \n",
       "4     4874747  "
      ]
     },
     "execution_count": 3,
     "metadata": {},
     "output_type": "execute_result"
    }
   ],
   "source": [
    "df=pd.read_excel('C:/Users/valer/OneDrive/Documents/GitHub/finalprojectstarwarriors/Valerie-branch/cancerprovertyrace.xlsx')\n",
    "df.head(5)"
   ]
  },
  {
   "cell_type": "code",
   "execution_count": 4,
   "id": "928fb170-ed0d-4910-b502-4e90e90cb738",
   "metadata": {},
   "outputs": [
    {
     "name": "stdout",
     "output_type": "stream",
     "text": [
      "Requirement already satisfied: pingouin in c:\\python3\\lib\\site-packages (0.5.1)\n",
      "Requirement already satisfied: numpy>=1.19 in c:\\python3\\lib\\site-packages (from pingouin) (1.22.2)\n",
      "Requirement already satisfied: scipy>=1.7 in c:\\python3\\lib\\site-packages (from pingouin) (1.8.0)\n",
      "Requirement already satisfied: pandas>=1.0 in c:\\python3\\lib\\site-packages (from pingouin) (1.4.1)\n",
      "Requirement already satisfied: matplotlib>=3.0.2 in c:\\python3\\lib\\site-packages (from pingouin) (3.5.1)\n",
      "Requirement already satisfied: seaborn>=0.11 in c:\\python3\\lib\\site-packages (from pingouin) (0.11.2)\n",
      "Requirement already satisfied: statsmodels>=0.13 in c:\\python3\\lib\\site-packages (from pingouin) (0.13.2)\n",
      "Requirement already satisfied: scikit-learn in c:\\python3\\lib\\site-packages (from pingouin) (1.0.2)\n",
      "Requirement already satisfied: pandas_flavor>=0.2.0 in c:\\python3\\lib\\site-packages (from pingouin) (0.2.0)\n",
      "Requirement already satisfied: outdated in c:\\python3\\lib\\site-packages (from pingouin) (0.2.1)\n",
      "Requirement already satisfied: tabulate in c:\\python3\\lib\\site-packages (from pingouin) (0.8.9)\n",
      "Requirement already satisfied: fonttools>=4.22.0 in c:\\python3\\lib\\site-packages (from matplotlib>=3.0.2->pingouin) (4.29.1)\n",
      "Requirement already satisfied: packaging>=20.0 in c:\\python3\\lib\\site-packages (from matplotlib>=3.0.2->pingouin) (21.3)\n",
      "Requirement already satisfied: kiwisolver>=1.0.1 in c:\\python3\\lib\\site-packages (from matplotlib>=3.0.2->pingouin) (1.3.2)\n",
      "Requirement already satisfied: cycler>=0.10 in c:\\python3\\lib\\site-packages (from matplotlib>=3.0.2->pingouin) (0.11.0)\n",
      "Requirement already satisfied: pyparsing>=2.2.1 in c:\\python3\\lib\\site-packages (from matplotlib>=3.0.2->pingouin) (3.0.7)\n",
      "Requirement already satisfied: python-dateutil>=2.7 in c:\\python3\\lib\\site-packages (from matplotlib>=3.0.2->pingouin) (2.8.2)\n",
      "Requirement already satisfied: pillow>=6.2.0 in c:\\python3\\lib\\site-packages (from matplotlib>=3.0.2->pingouin) (9.0.1)\n",
      "Requirement already satisfied: pytz>=2020.1 in c:\\python3\\lib\\site-packages (from pandas>=1.0->pingouin) (2021.3)\n",
      "Requirement already satisfied: xarray in c:\\python3\\lib\\site-packages (from pandas_flavor>=0.2.0->pingouin) (2022.3.0)\n",
      "Requirement already satisfied: patsy>=0.5.2 in c:\\python3\\lib\\site-packages (from statsmodels>=0.13->pingouin) (0.5.2)\n",
      "Requirement already satisfied: littleutils in c:\\python3\\lib\\site-packages (from outdated->pingouin) (0.2.2)\n",
      "Requirement already satisfied: requests in c:\\python3\\lib\\site-packages (from outdated->pingouin) (2.27.1)\n",
      "Requirement already satisfied: threadpoolctl>=2.0.0 in c:\\python3\\lib\\site-packages (from scikit-learn->pingouin) (3.1.0)\n",
      "Requirement already satisfied: joblib>=0.11 in c:\\python3\\lib\\site-packages (from scikit-learn->pingouin) (1.1.0)\n",
      "Requirement already satisfied: six in c:\\python3\\lib\\site-packages (from patsy>=0.5.2->statsmodels>=0.13->pingouin) (1.16.0)\n",
      "Requirement already satisfied: charset-normalizer~=2.0.0 in c:\\python3\\lib\\site-packages (from requests->outdated->pingouin) (2.0.12)\n",
      "Requirement already satisfied: certifi>=2017.4.17 in c:\\python3\\lib\\site-packages (from requests->outdated->pingouin) (2021.10.8)\n",
      "Requirement already satisfied: idna<4,>=2.5 in c:\\python3\\lib\\site-packages (from requests->outdated->pingouin) (3.3)\n",
      "Requirement already satisfied: urllib3<1.27,>=1.21.1 in c:\\python3\\lib\\site-packages (from requests->outdated->pingouin) (1.26.8)\n",
      "Note: you may need to restart the kernel to use updated packages.\n"
     ]
    }
   ],
   "source": [
    "pip install pingouin"
   ]
  },
  {
   "cell_type": "code",
   "execution_count": 5,
   "id": "eb20131c-b080-416e-9ebe-3ad5afcbdf53",
   "metadata": {},
   "outputs": [],
   "source": [
    "import matplotlib.pyplot as plt\n",
    "import seaborn as sns\n"
   ]
  },
  {
   "cell_type": "code",
   "execution_count": 12,
   "id": "6873747b-3746-4b24-ba98-c57b1eebeceb",
   "metadata": {},
   "outputs": [],
   "source": [
    "df_melt = pd.melt(df.reset_index(), id_vars=['index'], value_vars=['Category', 'Race_name', 'Percentage population below poverty', 'Population'])\n",
    "df_melt.columns = ['index', 'race', 'poverty']\n"
   ]
  },
  {
   "cell_type": "code",
   "execution_count": 16,
   "id": "663c8f09-55af-4742-ad4f-a9ce4fa0c2f3",
   "metadata": {},
   "outputs": [
    {
     "data": {
      "image/png": "[encoded data removed]",
      "text/plain": [
       "<Figure size 432x288 with 1 Axes>"
      ]
     },
     "metadata": {
      "needs_background": "light"
     },
     "output_type": "display_data"
    }
   ],
   "source": [
    "ax = sns.boxplot(x='index', y='race', data=df_melt, color='#99c2a2')"
   ]
  },
  {
   "cell_type": "code",
   "execution_count": 33,
   "id": "ef6dafec-72e0-42b0-80e9-d5366240b3fe",
   "metadata": {},
   "outputs": [
    {
     "data": {
      "image/png": "[encoded data removed]",
      "text/plain": [
       "<Figure size 432x288 with 1 Axes>"
      ]
     },
     "metadata": {},
     "output_type": "display_data"
    }
   ],
   "source": [
    "df.boxplot()\n",
    "plt.title('Simple Boxplot: No Outliers')\n",
    "plt.show()\n"
   ]
  },
  {
   "cell_type": "code",
   "execution_count": null,
   "id": "81f89931-9105-4c71-830f-f52bbf0533c1",
   "metadata": {},
   "outputs": [],
   "source": []
  }
 ],
 "metadata": {
  "kernelspec": {
   "display_name": "Python 3 (ipykernel)",
   "language": "python",
   "name": "python3"
  },
  "language_info": {
   "codemirror_mode": {
    "name": "ipython",
    "version": 3
   },
   "file_extension": ".py",
   "mimetype": "text/x-python",
   "name": "python",
   "nbconvert_exporter": "python",
   "pygments_lexer": "ipython3",
   "version": "3.10.2"
  }
 },
 "nbformat": 4,
 "nbformat_minor": 5
}
