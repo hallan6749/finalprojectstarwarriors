{
 "cells": [
  {
   "cell_type": "code",
   "execution_count": 7,
   "id": "683dce56",
   "metadata": {},
   "outputs": [],
   "source": [
    "import pandas as pd\n",
    "import matplotlib.pyplot as plt\n",
    "import seaborn as sns"
   ]
  },
  {
   "cell_type": "code",
   "execution_count": 15,
   "id": "014b12a3",
   "metadata": {},
   "outputs": [
    {
     "data": {
      "text/html": [
       "<div>\n",
       "<style scoped>\n",
       "    .dataframe tbody tr th:only-of-type {\n",
       "        vertical-align: middle;\n",
       "    }\n",
       "\n",
       "    .dataframe tbody tr th {\n",
       "        vertical-align: top;\n",
       "    }\n",
       "\n",
       "    .dataframe thead th {\n",
       "        text-align: right;\n",
       "    }\n",
       "</style>\n",
       "<table border=\"1\" class=\"dataframe\">\n",
       "  <thead>\n",
       "    <tr style=\"text-align: right;\">\n",
       "      <th></th>\n",
       "      <th>Cancer_id</th>\n",
       "      <th>Name</th>\n",
       "      <th>Category</th>\n",
       "      <th>State_name</th>\n",
       "      <th>Race_name</th>\n",
       "      <th>Count</th>\n",
       "      <th>Percentage population below poverty</th>\n",
       "      <th>Percentage population insured</th>\n",
       "      <th>Population</th>\n",
       "    </tr>\n",
       "  </thead>\n",
       "  <tbody>\n",
       "    <tr>\n",
       "      <th>0</th>\n",
       "      <td>27010</td>\n",
       "      <td>Cervix Uteri</td>\n",
       "      <td>Female Genital System</td>\n",
       "      <td>Alabama</td>\n",
       "      <td>American Indian or Alaska Native</td>\n",
       "      <td>0</td>\n",
       "      <td>18.4</td>\n",
       "      <td>89.2</td>\n",
       "      <td>4874747</td>\n",
       "    </tr>\n",
       "    <tr>\n",
       "      <th>1</th>\n",
       "      <td>27010</td>\n",
       "      <td>Cervix Uteri</td>\n",
       "      <td>Female Genital System</td>\n",
       "      <td>Alabama</td>\n",
       "      <td>Black or African American</td>\n",
       "      <td>77</td>\n",
       "      <td>18.4</td>\n",
       "      <td>89.2</td>\n",
       "      <td>4874747</td>\n",
       "    </tr>\n",
       "    <tr>\n",
       "      <th>2</th>\n",
       "      <td>27010</td>\n",
       "      <td>Cervix Uteri</td>\n",
       "      <td>Female Genital System</td>\n",
       "      <td>Alabama</td>\n",
       "      <td>White</td>\n",
       "      <td>152</td>\n",
       "      <td>18.4</td>\n",
       "      <td>89.2</td>\n",
       "      <td>4874747</td>\n",
       "    </tr>\n",
       "    <tr>\n",
       "      <th>3</th>\n",
       "      <td>27020</td>\n",
       "      <td>Corpus Uteri</td>\n",
       "      <td>Female Genital System</td>\n",
       "      <td>Alabama</td>\n",
       "      <td>American Indian or Alaska Native</td>\n",
       "      <td>0</td>\n",
       "      <td>18.4</td>\n",
       "      <td>89.2</td>\n",
       "      <td>4874747</td>\n",
       "    </tr>\n",
       "    <tr>\n",
       "      <th>4</th>\n",
       "      <td>27020</td>\n",
       "      <td>Corpus Uteri</td>\n",
       "      <td>Female Genital System</td>\n",
       "      <td>Alabama</td>\n",
       "      <td>Black or African American</td>\n",
       "      <td>154</td>\n",
       "      <td>18.4</td>\n",
       "      <td>89.2</td>\n",
       "      <td>4874747</td>\n",
       "    </tr>\n",
       "    <tr>\n",
       "      <th>...</th>\n",
       "      <td>...</td>\n",
       "      <td>...</td>\n",
       "      <td>...</td>\n",
       "      <td>...</td>\n",
       "      <td>...</td>\n",
       "      <td>...</td>\n",
       "      <td>...</td>\n",
       "      <td>...</td>\n",
       "      <td>...</td>\n",
       "    </tr>\n",
       "    <tr>\n",
       "      <th>1070</th>\n",
       "      <td>27060</td>\n",
       "      <td>Vulva</td>\n",
       "      <td>Female Genital System</td>\n",
       "      <td>Wyoming</td>\n",
       "      <td>Other Races and Unknown combined</td>\n",
       "      <td>0</td>\n",
       "      <td>11.6</td>\n",
       "      <td>86.6</td>\n",
       "      <td>579315</td>\n",
       "    </tr>\n",
       "    <tr>\n",
       "      <th>1071</th>\n",
       "      <td>27070</td>\n",
       "      <td>Other Female Genital Organs</td>\n",
       "      <td>Female Genital System</td>\n",
       "      <td>Wyoming</td>\n",
       "      <td>American Indian or Alaska Native</td>\n",
       "      <td>0</td>\n",
       "      <td>11.6</td>\n",
       "      <td>86.6</td>\n",
       "      <td>579315</td>\n",
       "    </tr>\n",
       "    <tr>\n",
       "      <th>1072</th>\n",
       "      <td>27070</td>\n",
       "      <td>Other Female Genital Organs</td>\n",
       "      <td>Female Genital System</td>\n",
       "      <td>Wyoming</td>\n",
       "      <td>Asian or Pacific Islander</td>\n",
       "      <td>0</td>\n",
       "      <td>11.6</td>\n",
       "      <td>86.6</td>\n",
       "      <td>579315</td>\n",
       "    </tr>\n",
       "    <tr>\n",
       "      <th>1073</th>\n",
       "      <td>27070</td>\n",
       "      <td>Other Female Genital Organs</td>\n",
       "      <td>Female Genital System</td>\n",
       "      <td>Wyoming</td>\n",
       "      <td>Black or African American</td>\n",
       "      <td>0</td>\n",
       "      <td>11.6</td>\n",
       "      <td>86.6</td>\n",
       "      <td>579315</td>\n",
       "    </tr>\n",
       "    <tr>\n",
       "      <th>1074</th>\n",
       "      <td>27070</td>\n",
       "      <td>Other Female Genital Organs</td>\n",
       "      <td>Female Genital System</td>\n",
       "      <td>Wyoming</td>\n",
       "      <td>Other Races and Unknown combined</td>\n",
       "      <td>0</td>\n",
       "      <td>11.6</td>\n",
       "      <td>86.6</td>\n",
       "      <td>579315</td>\n",
       "    </tr>\n",
       "  </tbody>\n",
       "</table>\n",
       "<p>1075 rows × 9 columns</p>\n",
       "</div>"
      ],
      "text/plain": [
       "      Cancer_id                         Name               Category  \\\n",
       "0         27010                 Cervix Uteri  Female Genital System   \n",
       "1         27010                 Cervix Uteri  Female Genital System   \n",
       "2         27010                 Cervix Uteri  Female Genital System   \n",
       "3         27020                 Corpus Uteri  Female Genital System   \n",
       "4         27020                 Corpus Uteri  Female Genital System   \n",
       "...         ...                          ...                    ...   \n",
       "1070      27060                        Vulva  Female Genital System   \n",
       "1071      27070  Other Female Genital Organs  Female Genital System   \n",
       "1072      27070  Other Female Genital Organs  Female Genital System   \n",
       "1073      27070  Other Female Genital Organs  Female Genital System   \n",
       "1074      27070  Other Female Genital Organs  Female Genital System   \n",
       "\n",
       "     State_name                         Race_name  Count  \\\n",
       "0       Alabama  American Indian or Alaska Native      0   \n",
       "1       Alabama         Black or African American     77   \n",
       "2       Alabama                             White    152   \n",
       "3       Alabama  American Indian or Alaska Native      0   \n",
       "4       Alabama         Black or African American    154   \n",
       "...         ...                               ...    ...   \n",
       "1070    Wyoming  Other Races and Unknown combined      0   \n",
       "1071    Wyoming  American Indian or Alaska Native      0   \n",
       "1072    Wyoming         Asian or Pacific Islander      0   \n",
       "1073    Wyoming         Black or African American      0   \n",
       "1074    Wyoming  Other Races and Unknown combined      0   \n",
       "\n",
       "      Percentage population below poverty  Percentage population insured  \\\n",
       "0                                    18.4                           89.2   \n",
       "1                                    18.4                           89.2   \n",
       "2                                    18.4                           89.2   \n",
       "3                                    18.4                           89.2   \n",
       "4                                    18.4                           89.2   \n",
       "...                                   ...                            ...   \n",
       "1070                                 11.6                           86.6   \n",
       "1071                                 11.6                           86.6   \n",
       "1072                                 11.6                           86.6   \n",
       "1073                                 11.6                           86.6   \n",
       "1074                                 11.6                           86.6   \n",
       "\n",
       "      Population  \n",
       "0        4874747  \n",
       "1        4874747  \n",
       "2        4874747  \n",
       "3        4874747  \n",
       "4        4874747  \n",
       "...          ...  \n",
       "1070      579315  \n",
       "1071      579315  \n",
       "1072      579315  \n",
       "1073      579315  \n",
       "1074      579315  \n",
       "\n",
       "[1075 rows x 9 columns]"
      ]
     },
     "execution_count": 15,
     "metadata": {},
     "output_type": "execute_result"
    }
   ],
   "source": [
    "cancer_df = pd.read_excel(\"CancerCombinedFile3.xlsx\")\n",
    "cancer_df"
   ]
  },
  {
   "cell_type": "code",
   "execution_count": 16,
   "id": "ce07e317",
   "metadata": {},
   "outputs": [
    {
     "data": {
      "text/plain": [
       "White                               273\n",
       "American Indian or Alaska Native    227\n",
       "Black or African American           208\n",
       "Asian or Pacific Islander           186\n",
       "Other Races and Unknown combined    181\n",
       "Name: Race_name, dtype: int64"
      ]
     },
     "execution_count": 16,
     "metadata": {},
     "output_type": "execute_result"
    }
   ],
   "source": [
    "cancer_df.Race_name.value_counts()"
   ]
  },
  {
   "cell_type": "code",
   "execution_count": 28,
   "id": "1a70f0ee",
   "metadata": {},
   "outputs": [
    {
     "name": "stderr",
     "output_type": "stream",
     "text": [
      "C:\\Users\\music\\anaconda3\\lib\\site-packages\\seaborn\\_decorators.py:36: FutureWarning: Pass the following variable as a keyword arg: x. From version 0.12, the only valid positional argument will be `data`, and passing other arguments without an explicit keyword will result in an error or misinterpretation.\n",
      "  warnings.warn(\n"
     ]
    },
    {
     "data": {
      "image/png": "[encoded data removed]",
      "text/plain": [
       "<Figure size 576x576 with 1 Axes>"
      ]
     },
     "metadata": {
      "needs_background": "light"
     },
     "output_type": "display_data"
    }
   ],
   "source": [
    "plt.figure(figsize=(8, 8))\n",
    "sns.countplot('Race_name', data=cancer_df)\n",
    "plt.title('Balanced Classes')\n",
    "plt.show()"
   ]
  },
  {
   "cell_type": "code",
   "execution_count": 31,
   "id": "580d1370",
   "metadata": {},
   "outputs": [
    {
     "name": "stderr",
     "output_type": "stream",
     "text": [
      "C:\\Users\\music\\anaconda3\\lib\\site-packages\\seaborn\\_decorators.py:36: FutureWarning: Pass the following variable as a keyword arg: x. From version 0.12, the only valid positional argument will be `data`, and passing other arguments without an explicit keyword will result in an error or misinterpretation.\n",
      "  warnings.warn(\n"
     ]
    },
    {
     "data": {
      "image/png": "[encoded data removed]",
      "text/plain": [
       "<Figure size 576x576 with 1 Axes>"
      ]
     },
     "metadata": {
      "needs_background": "light"
     },
     "output_type": "display_data"
    }
   ],
   "source": [
    "# Shuffle the Dataset.\n",
    "shuffled_df = cancer_df.sample(frac=1,random_state=4)\n",
    "\n",
    "# Put all the fraud class in a separate dataset.\n",
    "nonwhite_df = shuffled_df.loc[shuffled_df['Race_name'] != \"White\"]\n",
    "\n",
    "#Randomly select 492 observations from the non-fraud (majority class)\n",
    "with_white_df = shuffled_df.loc[shuffled_df['Race_name'] == \"White\"].sample(n=227,random_state=42)\n",
    "\n",
    "# Concatenate both dataframes again\n",
    "normalized_df = pd.concat([nonwhite_df , with_white_df])\n",
    "\n",
    "#plot the dataset after the undersampling\n",
    "plt.figure(figsize=(8, 8))\n",
    "sns.countplot('Race_name', data=normalized_df)\n",
    "plt.title('Balanced Classes')\n",
    "plt.show()"
   ]
  },
  {
   "cell_type": "code",
   "execution_count": 35,
   "id": "00a13e38",
   "metadata": {},
   "outputs": [
    {
     "data": {
      "text/plain": [
       "American Indian or Alaska Native    227\n",
       "White                               227\n",
       "Black or African American           208\n",
       "Asian or Pacific Islander           186\n",
       "Other Races and Unknown combined    181\n",
       "Name: Race_name, dtype: int64"
      ]
     },
     "execution_count": 35,
     "metadata": {},
     "output_type": "execute_result"
    }
   ],
   "source": [
    "normalized_df.Race_name.value_counts()"
   ]
  },
  {
   "cell_type": "code",
   "execution_count": 32,
   "id": "33373e57",
   "metadata": {},
   "outputs": [],
   "source": [
    "import openpyxl"
   ]
  },
  {
   "cell_type": "code",
   "execution_count": 33,
   "id": "6d8746e0",
   "metadata": {},
   "outputs": [],
   "source": [
    "normalized_df.to_excel('pandas_to_excel.xlsx', sheet_name='new_sheet_name')"
   ]
  }
 ],
 "metadata": {
  "kernelspec": {
   "display_name": "Python 3 (ipykernel)",
   "language": "python",
   "name": "python3"
  },
  "language_info": {
   "codemirror_mode": {
    "name": "ipython",
    "version": 3
   },
   "file_extension": ".py",
   "mimetype": "text/x-python",
   "name": "python",
   "nbconvert_exporter": "python",
   "pygments_lexer": "ipython3",
   "version": "3.8.12"
  }
 },
 "nbformat": 4,
 "nbformat_minor": 5
}
