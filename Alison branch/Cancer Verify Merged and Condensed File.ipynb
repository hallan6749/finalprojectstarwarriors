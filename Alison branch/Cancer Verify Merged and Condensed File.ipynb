{
 "cells": [
  {
   "cell_type": "markdown",
   "id": "71a7db88",
   "metadata": {},
   "source": [
    "# Load Libraries"
   ]
  },
  {
   "cell_type": "code",
   "execution_count": 2,
   "id": "c4a77f3b",
   "metadata": {},
   "outputs": [],
   "source": [
    "from mpl_toolkits.mplot3d import Axes3D\n",
    "from sklearn.preprocessing import StandardScaler\n",
    "import matplotlib.pyplot as plt # plotting\n",
    "import numpy as np # linear algebra\n",
    "import os # accessing directory structure\n",
    "import pandas as pd # data processing, CSV file I/O (e.g. pd.read_csv)"
   ]
  },
  {
   "cell_type": "markdown",
   "id": "bd277d61",
   "metadata": {},
   "source": [
    "# Print List Directory"
   ]
  },
  {
   "cell_type": "code",
   "execution_count": 3,
   "id": "32f52151",
   "metadata": {},
   "outputs": [
    {
     "name": "stdout",
     "output_type": "stream",
     "text": [
      "['.ipynb_checkpoints', 'Cancer Alison_Data Wrangling 1.ipynb', 'Cancer Alison_Data Wrangling 2.ipynb', 'Cancer Alison_Data Wrangling 3.ipynb', 'Cancer Alison_Merge Excel Documents Python File.ipynb', 'Cancer.csv', 'CancerCombinedFile.xlsx', 'CancerCombinedFile3.xlsx', 'Cancer_Occurrence.csv', 'State.csv', '~$CancerCombinedFile3.xlsx']\n"
     ]
    }
   ],
   "source": [
    "print(os.listdir('../input'))"
   ]
  },
  {
   "cell_type": "markdown",
   "id": "d88a439e",
   "metadata": {},
   "source": [
    "# Load Merged and Condensed Category File  "
   ]
  },
  {
   "cell_type": "code",
   "execution_count": 4,
   "id": "b77d4c61",
   "metadata": {},
   "outputs": [
    {
     "data": {
      "text/html": [
       "<div>\n",
       "<style scoped>\n",
       "    .dataframe tbody tr th:only-of-type {\n",
       "        vertical-align: middle;\n",
       "    }\n",
       "\n",
       "    .dataframe tbody tr th {\n",
       "        vertical-align: top;\n",
       "    }\n",
       "\n",
       "    .dataframe thead th {\n",
       "        text-align: right;\n",
       "    }\n",
       "</style>\n",
       "<table border=\"1\" class=\"dataframe\">\n",
       "  <thead>\n",
       "    <tr style=\"text-align: right;\">\n",
       "      <th></th>\n",
       "      <th>Cancer_id</th>\n",
       "      <th>Name</th>\n",
       "      <th>Category</th>\n",
       "      <th>State_name</th>\n",
       "      <th>Race_name</th>\n",
       "      <th>Count</th>\n",
       "      <th>Percentage population below poverty</th>\n",
       "      <th>Percentage population insured</th>\n",
       "      <th>Population</th>\n",
       "    </tr>\n",
       "  </thead>\n",
       "  <tbody>\n",
       "    <tr>\n",
       "      <th>0</th>\n",
       "      <td>27010</td>\n",
       "      <td>Cervix Uteri</td>\n",
       "      <td>Female Genital System</td>\n",
       "      <td>Alabama</td>\n",
       "      <td>American Indian or Alaska Native</td>\n",
       "      <td>0</td>\n",
       "      <td>18.4</td>\n",
       "      <td>89.2</td>\n",
       "      <td>4874747</td>\n",
       "    </tr>\n",
       "    <tr>\n",
       "      <th>1</th>\n",
       "      <td>27010</td>\n",
       "      <td>Cervix Uteri</td>\n",
       "      <td>Female Genital System</td>\n",
       "      <td>Alabama</td>\n",
       "      <td>Black or African American</td>\n",
       "      <td>77</td>\n",
       "      <td>18.4</td>\n",
       "      <td>89.2</td>\n",
       "      <td>4874747</td>\n",
       "    </tr>\n",
       "    <tr>\n",
       "      <th>2</th>\n",
       "      <td>27010</td>\n",
       "      <td>Cervix Uteri</td>\n",
       "      <td>Female Genital System</td>\n",
       "      <td>Alabama</td>\n",
       "      <td>White</td>\n",
       "      <td>152</td>\n",
       "      <td>18.4</td>\n",
       "      <td>89.2</td>\n",
       "      <td>4874747</td>\n",
       "    </tr>\n",
       "    <tr>\n",
       "      <th>3</th>\n",
       "      <td>27020</td>\n",
       "      <td>Corpus Uteri</td>\n",
       "      <td>Female Genital System</td>\n",
       "      <td>Alabama</td>\n",
       "      <td>American Indian or Alaska Native</td>\n",
       "      <td>0</td>\n",
       "      <td>18.4</td>\n",
       "      <td>89.2</td>\n",
       "      <td>4874747</td>\n",
       "    </tr>\n",
       "    <tr>\n",
       "      <th>4</th>\n",
       "      <td>27020</td>\n",
       "      <td>Corpus Uteri</td>\n",
       "      <td>Female Genital System</td>\n",
       "      <td>Alabama</td>\n",
       "      <td>Black or African American</td>\n",
       "      <td>154</td>\n",
       "      <td>18.4</td>\n",
       "      <td>89.2</td>\n",
       "      <td>4874747</td>\n",
       "    </tr>\n",
       "  </tbody>\n",
       "</table>\n",
       "</div>"
      ],
      "text/plain": [
       "   Cancer_id          Name               Category State_name  \\\n",
       "0      27010  Cervix Uteri  Female Genital System    Alabama   \n",
       "1      27010  Cervix Uteri  Female Genital System    Alabama   \n",
       "2      27010  Cervix Uteri  Female Genital System    Alabama   \n",
       "3      27020  Corpus Uteri  Female Genital System    Alabama   \n",
       "4      27020  Corpus Uteri  Female Genital System    Alabama   \n",
       "\n",
       "                          Race_name  Count  \\\n",
       "0  American Indian or Alaska Native      0   \n",
       "1         Black or African American     77   \n",
       "2                             White    152   \n",
       "3  American Indian or Alaska Native      0   \n",
       "4         Black or African American    154   \n",
       "\n",
       "   Percentage population below poverty  Percentage population insured  \\\n",
       "0                                 18.4                           89.2   \n",
       "1                                 18.4                           89.2   \n",
       "2                                 18.4                           89.2   \n",
       "3                                 18.4                           89.2   \n",
       "4                                 18.4                           89.2   \n",
       "\n",
       "   Population  \n",
       "0     4874747  \n",
       "1     4874747  \n",
       "2     4874747  \n",
       "3     4874747  \n",
       "4     4874747  "
      ]
     },
     "execution_count": 4,
     "metadata": {},
     "output_type": "execute_result"
    }
   ],
   "source": [
    "Cancer = pd.read_excel('../input/CancerCombinedFile3.xlsx')\n",
    "Cancer.head()"
   ]
  },
  {
   "cell_type": "markdown",
   "id": "ca662d19",
   "metadata": {},
   "source": [
    "# See shape of the data \n",
    "### (n of columns and rows)"
   ]
  },
  {
   "cell_type": "code",
   "execution_count": 5,
   "id": "8296ba0f",
   "metadata": {},
   "outputs": [
    {
     "data": {
      "text/plain": [
       "(1075, 9)"
      ]
     },
     "execution_count": 5,
     "metadata": {},
     "output_type": "execute_result"
    }
   ],
   "source": [
    "len(Cancer)\n",
    "Cancer.shape\n",
    "# (1075 rows, 9 columns)"
   ]
  },
  {
   "cell_type": "markdown",
   "id": "105a4335",
   "metadata": {},
   "source": [
    "# Confirm Unique Variables per Object (String) Variables"
   ]
  },
  {
   "cell_type": "code",
   "execution_count": 6,
   "id": "08293660",
   "metadata": {},
   "outputs": [
    {
     "name": "stdout",
     "output_type": "stream",
     "text": [
      "<class 'pandas.core.frame.DataFrame'>\n",
      "RangeIndex: 1075 entries, 0 to 1074\n",
      "Data columns (total 9 columns):\n",
      " #   Column                               Non-Null Count  Dtype  \n",
      "---  ------                               --------------  -----  \n",
      " 0   Cancer_id                            1075 non-null   int64  \n",
      " 1   Name                                 1075 non-null   object \n",
      " 2   Category                             1075 non-null   object \n",
      " 3   State_name                           1075 non-null   object \n",
      " 4   Race_name                            1075 non-null   object \n",
      " 5   Count                                1075 non-null   int64  \n",
      " 6   Percentage population below poverty  1075 non-null   float64\n",
      " 7   Percentage population insured        1075 non-null   float64\n",
      " 8   Population                           1075 non-null   int64  \n",
      "dtypes: float64(2), int64(3), object(4)\n",
      "memory usage: 75.7+ KB\n"
     ]
    }
   ],
   "source": [
    "Cancer.info()"
   ]
  },
  {
   "cell_type": "code",
   "execution_count": 7,
   "id": "d887de01",
   "metadata": {},
   "outputs": [
    {
     "data": {
      "text/plain": [
       "array(['Cervix Uteri', 'Corpus Uteri', 'Uterus, NOS', 'Ovary', 'Vagina',\n",
       "       'Vulva', 'Other Female Genital Organs'], dtype=object)"
      ]
     },
     "execution_count": 7,
     "metadata": {},
     "output_type": "execute_result"
    }
   ],
   "source": [
    "Cancer.Name.unique()"
   ]
  },
  {
   "cell_type": "code",
   "execution_count": 8,
   "id": "cbaa3a4f",
   "metadata": {},
   "outputs": [
    {
     "data": {
      "text/plain": [
       "array(['Female Genital System'], dtype=object)"
      ]
     },
     "execution_count": 8,
     "metadata": {},
     "output_type": "execute_result"
    }
   ],
   "source": [
    "Cancer.Category.unique()"
   ]
  },
  {
   "cell_type": "code",
   "execution_count": 9,
   "id": "4c17ef46",
   "metadata": {},
   "outputs": [
    {
     "data": {
      "text/plain": [
       "array(['Alabama', 'Alaska', 'Arizona', 'Arkansas', 'California',\n",
       "       'Colorado', 'Connecticut', 'Delaware', 'District of Columbia',\n",
       "       'Florida', 'Georgia', 'Hawaii', 'Idaho', 'Illinois', 'Indiana',\n",
       "       'Iowa', 'Kansas', 'Kentucky', 'Louisiana', 'Maine', 'Maryland',\n",
       "       'Massachusetts', 'Michigan', 'Minnesota', 'Mississippi',\n",
       "       'Missouri', 'Montana', 'Nebraska', 'Nevada', 'New Hampshire',\n",
       "       'New Jersey', 'New Mexico', 'New York', 'North Carolina',\n",
       "       'North Dakota', 'Ohio', 'Oklahoma', 'Oregon', 'Pennsylvania',\n",
       "       'Rhode Island', 'South Carolina', 'South Dakota', 'Tennessee',\n",
       "       'Texas', 'Utah', 'Vermont', 'Virginia', 'Washington',\n",
       "       'West Virginia', 'Wisconsin', 'Wyoming'], dtype=object)"
      ]
     },
     "execution_count": 9,
     "metadata": {},
     "output_type": "execute_result"
    }
   ],
   "source": [
    "Cancer.State_name.unique()"
   ]
  },
  {
   "cell_type": "code",
   "execution_count": 10,
   "id": "55e77dc4",
   "metadata": {},
   "outputs": [
    {
     "data": {
      "text/plain": [
       "array(['American Indian or Alaska Native', 'Black or African American',\n",
       "       'White', 'Other Races and Unknown combined',\n",
       "       'Asian or Pacific Islander'], dtype=object)"
      ]
     },
     "execution_count": 10,
     "metadata": {},
     "output_type": "execute_result"
    }
   ],
   "source": [
    "Cancer.Race_name.unique()"
   ]
  },
  {
   "cell_type": "markdown",
   "id": "8957f7f1",
   "metadata": {},
   "source": [
    "# View statisical data on Numeric Variables"
   ]
  },
  {
   "cell_type": "code",
   "execution_count": 11,
   "id": "e5eb323f",
   "metadata": {},
   "outputs": [
    {
     "data": {
      "text/html": [
       "<div>\n",
       "<style scoped>\n",
       "    .dataframe tbody tr th:only-of-type {\n",
       "        vertical-align: middle;\n",
       "    }\n",
       "\n",
       "    .dataframe tbody tr th {\n",
       "        vertical-align: top;\n",
       "    }\n",
       "\n",
       "    .dataframe thead th {\n",
       "        text-align: right;\n",
       "    }\n",
       "</style>\n",
       "<table border=\"1\" class=\"dataframe\">\n",
       "  <thead>\n",
       "    <tr style=\"text-align: right;\">\n",
       "      <th></th>\n",
       "      <th>Cancer_id</th>\n",
       "      <th>Count</th>\n",
       "      <th>Percentage population below poverty</th>\n",
       "      <th>Percentage population insured</th>\n",
       "      <th>Population</th>\n",
       "    </tr>\n",
       "  </thead>\n",
       "  <tbody>\n",
       "    <tr>\n",
       "      <th>count</th>\n",
       "      <td>1075.000000</td>\n",
       "      <td>1075.000000</td>\n",
       "      <td>1075.000000</td>\n",
       "      <td>1075.000000</td>\n",
       "      <td>1.075000e+03</td>\n",
       "    </tr>\n",
       "    <tr>\n",
       "      <th>mean</th>\n",
       "      <td>27041.172093</td>\n",
       "      <td>88.060465</td>\n",
       "      <td>14.432279</td>\n",
       "      <td>90.787814</td>\n",
       "      <td>6.433182e+06</td>\n",
       "    </tr>\n",
       "    <tr>\n",
       "      <th>std</th>\n",
       "      <td>19.731040</td>\n",
       "      <td>293.190088</td>\n",
       "      <td>3.116940</td>\n",
       "      <td>3.452202</td>\n",
       "      <td>7.513128e+06</td>\n",
       "    </tr>\n",
       "    <tr>\n",
       "      <th>min</th>\n",
       "      <td>27010.000000</td>\n",
       "      <td>0.000000</td>\n",
       "      <td>8.500000</td>\n",
       "      <td>81.400000</td>\n",
       "      <td>5.793150e+05</td>\n",
       "    </tr>\n",
       "    <tr>\n",
       "      <th>25%</th>\n",
       "      <td>27020.000000</td>\n",
       "      <td>0.000000</td>\n",
       "      <td>11.600000</td>\n",
       "      <td>88.500000</td>\n",
       "      <td>1.427538e+06</td>\n",
       "    </tr>\n",
       "    <tr>\n",
       "      <th>50%</th>\n",
       "      <td>27040.000000</td>\n",
       "      <td>0.000000</td>\n",
       "      <td>14.000000</td>\n",
       "      <td>90.600000</td>\n",
       "      <td>4.142776e+06</td>\n",
       "    </tr>\n",
       "    <tr>\n",
       "      <th>75%</th>\n",
       "      <td>27060.000000</td>\n",
       "      <td>49.000000</td>\n",
       "      <td>16.700000</td>\n",
       "      <td>93.300000</td>\n",
       "      <td>7.405743e+06</td>\n",
       "    </tr>\n",
       "    <tr>\n",
       "      <th>max</th>\n",
       "      <td>27070.000000</td>\n",
       "      <td>4430.000000</td>\n",
       "      <td>22.300000</td>\n",
       "      <td>97.000000</td>\n",
       "      <td>3.953665e+07</td>\n",
       "    </tr>\n",
       "  </tbody>\n",
       "</table>\n",
       "</div>"
      ],
      "text/plain": [
       "          Cancer_id        Count  Percentage population below poverty  \\\n",
       "count   1075.000000  1075.000000                          1075.000000   \n",
       "mean   27041.172093    88.060465                            14.432279   \n",
       "std       19.731040   293.190088                             3.116940   \n",
       "min    27010.000000     0.000000                             8.500000   \n",
       "25%    27020.000000     0.000000                            11.600000   \n",
       "50%    27040.000000     0.000000                            14.000000   \n",
       "75%    27060.000000    49.000000                            16.700000   \n",
       "max    27070.000000  4430.000000                            22.300000   \n",
       "\n",
       "       Percentage population insured    Population  \n",
       "count                    1075.000000  1.075000e+03  \n",
       "mean                       90.787814  6.433182e+06  \n",
       "std                         3.452202  7.513128e+06  \n",
       "min                        81.400000  5.793150e+05  \n",
       "25%                        88.500000  1.427538e+06  \n",
       "50%                        90.600000  4.142776e+06  \n",
       "75%                        93.300000  7.405743e+06  \n",
       "max                        97.000000  3.953665e+07  "
      ]
     },
     "execution_count": 11,
     "metadata": {},
     "output_type": "execute_result"
    }
   ],
   "source": [
    "Cancer.describe()"
   ]
  }
 ],
 "metadata": {
  "kernelspec": {
   "display_name": "Python 3 (ipykernel)",
   "language": "python",
   "name": "python3"
  },
  "language_info": {
   "codemirror_mode": {
    "name": "ipython",
    "version": 3
   },
   "file_extension": ".py",
   "mimetype": "text/x-python",
   "name": "python",
   "nbconvert_exporter": "python",
   "pygments_lexer": "ipython3",
   "version": "3.8.12"
  }
 },
 "nbformat": 4,
 "nbformat_minor": 5
}
