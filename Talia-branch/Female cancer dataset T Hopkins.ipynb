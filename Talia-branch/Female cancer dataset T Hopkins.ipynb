{
 "cells": [
  {
   "cell_type": "code",
   "execution_count": 2,
   "id": "683dce56",
   "metadata": {},
   "outputs": [],
   "source": [
    "import pandas as pd\n",
    "import matplotlib.pyplot as plt\n",
    "import seaborn as sns"
   ]
  },
  {
   "cell_type": "code",
   "execution_count": 3,
   "id": "014b12a3",
   "metadata": {},
   "outputs": [
    {
     "data": {
      "text/html": [
       "<div>\n",
       "<style scoped>\n",
       "    .dataframe tbody tr th:only-of-type {\n",
       "        vertical-align: middle;\n",
       "    }\n",
       "\n",
       "    .dataframe tbody tr th {\n",
       "        vertical-align: top;\n",
       "    }\n",
       "\n",
       "    .dataframe thead th {\n",
       "        text-align: right;\n",
       "    }\n",
       "</style>\n",
       "<table border=\"1\" class=\"dataframe\">\n",
       "  <thead>\n",
       "    <tr style=\"text-align: right;\">\n",
       "      <th></th>\n",
       "      <th>Cancer_id</th>\n",
       "      <th>Name</th>\n",
       "      <th>Category</th>\n",
       "      <th>State_name</th>\n",
       "      <th>Race_name</th>\n",
       "      <th>Count</th>\n",
       "      <th>Percentage population below poverty</th>\n",
       "      <th>Percentage population insured</th>\n",
       "      <th>Population</th>\n",
       "    </tr>\n",
       "  </thead>\n",
       "  <tbody>\n",
       "    <tr>\n",
       "      <th>0</th>\n",
       "      <td>20010</td>\n",
       "      <td>Lip</td>\n",
       "      <td>Oral Cavity and Pharynx</td>\n",
       "      <td>Alabama</td>\n",
       "      <td>American Indian or Alaska Native</td>\n",
       "      <td>0</td>\n",
       "      <td>18.4</td>\n",
       "      <td>89.2</td>\n",
       "      <td>4874747</td>\n",
       "    </tr>\n",
       "    <tr>\n",
       "      <th>1</th>\n",
       "      <td>20010</td>\n",
       "      <td>Lip</td>\n",
       "      <td>Oral Cavity and Pharynx</td>\n",
       "      <td>Alabama</td>\n",
       "      <td>Asian or Pacific Islander</td>\n",
       "      <td>0</td>\n",
       "      <td>18.4</td>\n",
       "      <td>89.2</td>\n",
       "      <td>4874747</td>\n",
       "    </tr>\n",
       "    <tr>\n",
       "      <th>2</th>\n",
       "      <td>20010</td>\n",
       "      <td>Lip</td>\n",
       "      <td>Oral Cavity and Pharynx</td>\n",
       "      <td>Alabama</td>\n",
       "      <td>White</td>\n",
       "      <td>55</td>\n",
       "      <td>18.4</td>\n",
       "      <td>89.2</td>\n",
       "      <td>4874747</td>\n",
       "    </tr>\n",
       "    <tr>\n",
       "      <th>3</th>\n",
       "      <td>20010</td>\n",
       "      <td>Lip</td>\n",
       "      <td>Oral Cavity and Pharynx</td>\n",
       "      <td>Alabama</td>\n",
       "      <td>Other Races and Unknown combined</td>\n",
       "      <td>0</td>\n",
       "      <td>18.4</td>\n",
       "      <td>89.2</td>\n",
       "      <td>4874747</td>\n",
       "    </tr>\n",
       "    <tr>\n",
       "      <th>4</th>\n",
       "      <td>20020</td>\n",
       "      <td>Tongue</td>\n",
       "      <td>Oral Cavity and Pharynx</td>\n",
       "      <td>Alabama</td>\n",
       "      <td>American Indian or Alaska Native</td>\n",
       "      <td>0</td>\n",
       "      <td>18.4</td>\n",
       "      <td>89.2</td>\n",
       "      <td>4874747</td>\n",
       "    </tr>\n",
       "    <tr>\n",
       "      <th>...</th>\n",
       "      <td>...</td>\n",
       "      <td>...</td>\n",
       "      <td>...</td>\n",
       "      <td>...</td>\n",
       "      <td>...</td>\n",
       "      <td>...</td>\n",
       "      <td>...</td>\n",
       "      <td>...</td>\n",
       "      <td>...</td>\n",
       "    </tr>\n",
       "    <tr>\n",
       "      <th>9914</th>\n",
       "      <td>36020</td>\n",
       "      <td>Kaposi Sarcoma</td>\n",
       "      <td>Kaposi Sarcoma</td>\n",
       "      <td>Wyoming</td>\n",
       "      <td>White</td>\n",
       "      <td>0</td>\n",
       "      <td>11.6</td>\n",
       "      <td>86.6</td>\n",
       "      <td>579315</td>\n",
       "    </tr>\n",
       "    <tr>\n",
       "      <th>9915</th>\n",
       "      <td>36020</td>\n",
       "      <td>Kaposi Sarcoma</td>\n",
       "      <td>Kaposi Sarcoma</td>\n",
       "      <td>Wyoming</td>\n",
       "      <td>Other Races and Unknown combined</td>\n",
       "      <td>0</td>\n",
       "      <td>11.6</td>\n",
       "      <td>86.6</td>\n",
       "      <td>579315</td>\n",
       "    </tr>\n",
       "    <tr>\n",
       "      <th>9916</th>\n",
       "      <td>37000</td>\n",
       "      <td>Miscellaneous</td>\n",
       "      <td>Miscellaneous</td>\n",
       "      <td>Wyoming</td>\n",
       "      <td>Asian or Pacific Islander</td>\n",
       "      <td>0</td>\n",
       "      <td>11.6</td>\n",
       "      <td>86.6</td>\n",
       "      <td>579315</td>\n",
       "    </tr>\n",
       "    <tr>\n",
       "      <th>9917</th>\n",
       "      <td>37000</td>\n",
       "      <td>Miscellaneous</td>\n",
       "      <td>Miscellaneous</td>\n",
       "      <td>Wyoming</td>\n",
       "      <td>White</td>\n",
       "      <td>95</td>\n",
       "      <td>11.6</td>\n",
       "      <td>86.6</td>\n",
       "      <td>579315</td>\n",
       "    </tr>\n",
       "    <tr>\n",
       "      <th>9918</th>\n",
       "      <td>37000</td>\n",
       "      <td>Miscellaneous</td>\n",
       "      <td>Miscellaneous</td>\n",
       "      <td>Wyoming</td>\n",
       "      <td>Other Races and Unknown combined</td>\n",
       "      <td>0</td>\n",
       "      <td>11.6</td>\n",
       "      <td>86.6</td>\n",
       "      <td>579315</td>\n",
       "    </tr>\n",
       "  </tbody>\n",
       "</table>\n",
       "<p>9919 rows × 9 columns</p>\n",
       "</div>"
      ],
      "text/plain": [
       "      Cancer_id            Name                 Category State_name  \\\n",
       "0         20010             Lip  Oral Cavity and Pharynx    Alabama   \n",
       "1         20010             Lip  Oral Cavity and Pharynx    Alabama   \n",
       "2         20010             Lip  Oral Cavity and Pharynx    Alabama   \n",
       "3         20010             Lip  Oral Cavity and Pharynx    Alabama   \n",
       "4         20020          Tongue  Oral Cavity and Pharynx    Alabama   \n",
       "...         ...             ...                      ...        ...   \n",
       "9914      36020  Kaposi Sarcoma           Kaposi Sarcoma    Wyoming   \n",
       "9915      36020  Kaposi Sarcoma           Kaposi Sarcoma    Wyoming   \n",
       "9916      37000   Miscellaneous            Miscellaneous    Wyoming   \n",
       "9917      37000   Miscellaneous            Miscellaneous    Wyoming   \n",
       "9918      37000   Miscellaneous            Miscellaneous    Wyoming   \n",
       "\n",
       "                             Race_name  Count  \\\n",
       "0     American Indian or Alaska Native      0   \n",
       "1            Asian or Pacific Islander      0   \n",
       "2                                White     55   \n",
       "3     Other Races and Unknown combined      0   \n",
       "4     American Indian or Alaska Native      0   \n",
       "...                                ...    ...   \n",
       "9914                             White      0   \n",
       "9915  Other Races and Unknown combined      0   \n",
       "9916         Asian or Pacific Islander      0   \n",
       "9917                             White     95   \n",
       "9918  Other Races and Unknown combined      0   \n",
       "\n",
       "      Percentage population below poverty  Percentage population insured  \\\n",
       "0                                    18.4                           89.2   \n",
       "1                                    18.4                           89.2   \n",
       "2                                    18.4                           89.2   \n",
       "3                                    18.4                           89.2   \n",
       "4                                    18.4                           89.2   \n",
       "...                                   ...                            ...   \n",
       "9914                                 11.6                           86.6   \n",
       "9915                                 11.6                           86.6   \n",
       "9916                                 11.6                           86.6   \n",
       "9917                                 11.6                           86.6   \n",
       "9918                                 11.6                           86.6   \n",
       "\n",
       "      Population  \n",
       "0        4874747  \n",
       "1        4874747  \n",
       "2        4874747  \n",
       "3        4874747  \n",
       "4        4874747  \n",
       "...          ...  \n",
       "9914      579315  \n",
       "9915      579315  \n",
       "9916      579315  \n",
       "9917      579315  \n",
       "9918      579315  \n",
       "\n",
       "[9919 rows x 9 columns]"
      ]
     },
     "execution_count": 3,
     "metadata": {},
     "output_type": "execute_result"
    }
   ],
   "source": [
    "cancer_df = pd.read_excel(\"CancerCombinedFile.xlsx\")\n",
    "cancer_df"
   ]
  },
  {
   "cell_type": "code",
   "execution_count": 21,
   "id": "ce07e317",
   "metadata": {},
   "outputs": [
    {
     "data": {
      "text/plain": [
       "White                               2567\n",
       "American Indian or Alaska Native    2001\n",
       "Black or African American           1834\n",
       "Other Races and Unknown combined    1759\n",
       "Asian or Pacific Islander           1758\n",
       "Name: Race_name, dtype: int64"
      ]
     },
     "execution_count": 21,
     "metadata": {},
     "output_type": "execute_result"
    }
   ],
   "source": [
    "cancer_df.Race_name.value_counts()"
   ]
  },
  {
   "cell_type": "code",
   "execution_count": 4,
   "id": "c425e1bd",
   "metadata": {},
   "outputs": [
    {
     "name": "stderr",
     "output_type": "stream",
     "text": [
      "C:\\Users\\music\\anaconda3\\lib\\site-packages\\seaborn\\_decorators.py:36: FutureWarning: Pass the following variable as a keyword arg: x. From version 0.12, the only valid positional argument will be `data`, and passing other arguments without an explicit keyword will result in an error or misinterpretation.\n",
      "  warnings.warn(\n"
     ]
    },
    {
     "data": {
      "image/png": "[encoded data removed]",
      "text/plain": [
       "<Figure size 576x576 with 1 Axes>"
      ]
     },
     "metadata": {
      "needs_background": "light"
     },
     "output_type": "display_data"
    }
   ],
   "source": [
    "#plot the dataset after the undersampling\n",
    "plt.figure(figsize=(8, 8))\n",
    "sns.countplot('Race_name', data=cancer_df)\n",
    "plt.title('Balanced Classes')\n",
    "plt.show()"
   ]
  },
  {
   "cell_type": "code",
   "execution_count": 22,
   "id": "580d1370",
   "metadata": {},
   "outputs": [
    {
     "name": "stderr",
     "output_type": "stream",
     "text": [
      "C:\\Users\\TTHic\\anaconda3\\lib\\site-packages\\seaborn\\_decorators.py:36: FutureWarning: Pass the following variable as a keyword arg: x. From version 0.12, the only valid positional argument will be `data`, and passing other arguments without an explicit keyword will result in an error or misinterpretation.\n",
      "  warnings.warn(\n"
     ]
    },
    {
     "data": {
      "image/png": "[encoded data removed]",
      "text/plain": [
       "<Figure size 576x576 with 1 Axes>"
      ]
     },
     "metadata": {
      "needs_background": "light"
     },
     "output_type": "display_data"
    }
   ],
   "source": [
    "# Shuffle the Dataset.\n",
    "shuffled_df = cancer_df.sample(frac=1,random_state=4)\n",
    "\n",
    "# Put all the fraud class in a separate dataset.\n",
    "nonwhite_df = shuffled_df.loc[shuffled_df['Race_name'] != \"White\"]\n",
    "\n",
    "#Randomly select 492 observations from the non-fraud (majority class)\n",
    "with_white_df = shuffled_df.loc[shuffled_df['Race_name'] == \"White\"].sample(n=2000,random_state=42)\n",
    "\n",
    "# Concatenate both dataframes again\n",
    "normalized_df = pd.concat([nonwhite_df , with_white_df])\n",
    "\n",
    "#plot the dataset after the undersampling\n",
    "plt.figure(figsize=(8, 8))\n",
    "sns.countplot('Race_name', data=normalized_df)\n",
    "plt.title('Balanced Classes')\n",
    "plt.show()"
   ]
  },
  {
   "cell_type": "code",
   "execution_count": null,
   "id": "19f9d2e8",
   "metadata": {},
   "outputs": [],
   "source": [
    "## 7 types of female cancers: Ovary, Uterus,NOS, Vagina, Vulva, Cervix Uteri, Corpus Uteri, and Other Female Genital Organs"
   ]
  },
  {
   "cell_type": "code",
   "execution_count": 25,
   "id": "edf5ced7",
   "metadata": {},
   "outputs": [
    {
     "data": {
      "text/plain": [
       "array(['Miscellaneous', 'Stomach', 'Other Male Genital Organs',\n",
       "       'Male Breast', 'Eye and Orbit', 'Female Breast', 'Testis',\n",
       "       'Vagina', 'Lip', 'Tongue', 'Chronic Lymphocytic Leukemia',\n",
       "       'Prostate', 'Oropharynx', 'Other Female Genital Organs',\n",
       "       'Other Oral Cavity and Pharynx', 'Pleura', 'Colon and Rectum',\n",
       "       'Soft Tissue including Heart', 'Hodgkin Lymphoma', 'Brain',\n",
       "       'Melanoma of the Skin', 'Tonsil', 'Acute Lymphocytic Leukemia',\n",
       "       'Other Digestive Organs', 'Other Urinary Organs', 'Salivary Gland',\n",
       "       'Larynx', 'Trachea, Mediastinum and Other Respiratory Organs',\n",
       "       'Peritoneum, Omentum and Mesentery',\n",
       "       'Urinary Bladder, invasive and in situ', 'Other Biliary', 'Ureter',\n",
       "       'Myeloma', 'Ovary', 'Anus, Anal Canal and Anorectum',\n",
       "       'Kidney and Renal Pelvis', 'Retroperitoneum',\n",
       "       'Gum and Other Mouth', 'Non-Hodgkin Lymphoma', 'Hypopharynx',\n",
       "       'Floor of Mouth', 'Thyroid', 'Cranial Nerves Other Nervous System',\n",
       "       'Corpus Uteri', 'Gallbladder', 'Mesothelioma',\n",
       "       'Liver and Intrahepatic Bile Duct', 'Nasopharynx', 'Penis',\n",
       "       'Chronic Myeloid Leukemia', 'Kaposi Sarcoma', 'Other Leukemias',\n",
       "       'Esophagus', 'Cervix Uteri', 'Vulva', 'Small Intestine',\n",
       "       'Pancreas', 'Uterus, NOS', 'Other Endocrine including Thymus',\n",
       "       'Lung and Bronchus', 'Nose, Nasal Cavity and Middle Ear',\n",
       "       'Acute Myeloid Leukemia', 'Other Non-Epithelial Skin',\n",
       "       'Bones and Joints'], dtype=object)"
      ]
     },
     "execution_count": 25,
     "metadata": {},
     "output_type": "execute_result"
    }
   ],
   "source": [
    "normalized_df.Name.unique()"
   ]
  },
  {
   "cell_type": "code",
   "execution_count": 33,
   "id": "3fc0ee0c",
   "metadata": {},
   "outputs": [
    {
     "ename": "TypeError",
     "evalue": "isin() takes 2 positional arguments but 8 were given",
     "output_type": "error",
     "traceback": [
      "\u001b[1;31m---------------------------------------------------------------------------\u001b[0m",
      "\u001b[1;31mTypeError\u001b[0m                                 Traceback (most recent call last)",
      "\u001b[1;32m<ipython-input-33-f840fdf44f96>\u001b[0m in \u001b[0;36m<module>\u001b[1;34m\u001b[0m\n\u001b[1;32m----> 1\u001b[1;33m \u001b[0mfemale_cancer_df\u001b[0m \u001b[1;33m=\u001b[0m \u001b[0mnormalized_df\u001b[0m\u001b[1;33m[\u001b[0m\u001b[0mnormalized_df\u001b[0m\u001b[1;33m[\u001b[0m\u001b[1;34m\"Name\"\u001b[0m\u001b[1;33m]\u001b[0m\u001b[1;33m.\u001b[0m\u001b[0misin\u001b[0m\u001b[1;33m(\u001b[0m\u001b[1;34m\"Vagina\"\u001b[0m\u001b[1;33m,\u001b[0m \u001b[1;34m\"Ovary\"\u001b[0m\u001b[1;33m,\u001b[0m \u001b[1;34m\"Uterus, NOS\"\u001b[0m\u001b[1;33m,\u001b[0m \u001b[1;34m\"Vulva\"\u001b[0m\u001b[1;33m,\u001b[0m \u001b[1;34m\"Cervix Uteri\"\u001b[0m\u001b[1;33m,\u001b[0m \u001b[1;34m\"Corpus Uteri\"\u001b[0m\u001b[1;33m,\u001b[0m \u001b[1;34m\"Other Female Genital Organs\"\u001b[0m\u001b[1;33m)\u001b[0m\u001b[1;33m]\u001b[0m\u001b[1;33m\u001b[0m\u001b[1;33m\u001b[0m\u001b[0m\n\u001b[0m",
      "\u001b[1;31mTypeError\u001b[0m: isin() takes 2 positional arguments but 8 were given"
     ]
    }
   ],
   "source": [
    "female_cancer_df = normalized_df[normalized_df[\"Name\"].isin(\"Vagina\", \"Ovary\", \"Uterus, NOS\", \"Vulva\", \"Cervix Uteri\", \"Corpus Uteri\", \"Other Female Genital Organs\")] "
   ]
  },
  {
   "cell_type": "code",
   "execution_count": null,
   "id": "9ecab9d3",
   "metadata": {},
   "outputs": [],
   "source": []
  }
 ],
 "metadata": {
  "kernelspec": {
   "display_name": "Python 3 (ipykernel)",
   "language": "python",
   "name": "python3"
  },
  "language_info": {
   "codemirror_mode": {
    "name": "ipython",
    "version": 3
   },
   "file_extension": ".py",
   "mimetype": "text/x-python",
   "name": "python",
   "nbconvert_exporter": "python",
   "pygments_lexer": "ipython3",
   "version": "3.8.12"
  }
 },
 "nbformat": 4,
 "nbformat_minor": 5
}
