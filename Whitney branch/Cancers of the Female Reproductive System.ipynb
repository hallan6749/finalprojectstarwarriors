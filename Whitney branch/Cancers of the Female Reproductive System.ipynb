{
 "cells": [
  {
   "cell_type": "markdown",
   "id": "b4094569",
   "metadata": {},
   "source": [
    "# Load Packages"
   ]
  },
  {
   "cell_type": "code",
   "execution_count": 1,
   "id": "59407010",
   "metadata": {},
   "outputs": [],
   "source": [
    "import pandas as pd\n",
    "import numpy as np\n",
    "from scipy.stats import norm\n",
    "from scipy import stats\n",
    "from scipy.stats import ttest_ind\n",
    "import matplotlib.pyplot as plt\n",
    "import seaborn as sns\n",
    "from statsmodels.stats.contingency_tables import mcnemar\n",
    "import scipy, scipy.stats\n",
    "from sklearn.preprocessing import LabelEncoder,OneHotEncoder\n",
    "import statsmodels as sm"
   ]
  },
  {
   "cell_type": "code",
   "execution_count": null,
   "id": "c843ce61",
   "metadata": {},
   "outputs": [],
   "source": [
    "from scipy.stats import boxcox"
   ]
  },
  {
   "cell_type": "markdown",
   "id": "3a8fee8b",
   "metadata": {},
   "source": [
    "# Load Data"
   ]
  },
  {
   "cell_type": "code",
   "execution_count": 2,
   "id": "01b89a6f",
   "metadata": {},
   "outputs": [
    {
     "data": {
      "text/html": [
       "<div>\n",
       "<style scoped>\n",
       "    .dataframe tbody tr th:only-of-type {\n",
       "        vertical-align: middle;\n",
       "    }\n",
       "\n",
       "    .dataframe tbody tr th {\n",
       "        vertical-align: top;\n",
       "    }\n",
       "\n",
       "    .dataframe thead th {\n",
       "        text-align: right;\n",
       "    }\n",
       "</style>\n",
       "<table border=\"1\" class=\"dataframe\">\n",
       "  <thead>\n",
       "    <tr style=\"text-align: right;\">\n",
       "      <th></th>\n",
       "      <th>Unnamed: 0</th>\n",
       "      <th>Name</th>\n",
       "      <th>Category</th>\n",
       "      <th>State</th>\n",
       "      <th>Race</th>\n",
       "      <th>Count</th>\n",
       "      <th>Poverty%</th>\n",
       "      <th>Insured</th>\n",
       "      <th>Population</th>\n",
       "      <th>NameR</th>\n",
       "    </tr>\n",
       "  </thead>\n",
       "  <tbody>\n",
       "    <tr>\n",
       "      <th>0</th>\n",
       "      <td>1</td>\n",
       "      <td>Cervix Uteri</td>\n",
       "      <td>Female Genital System</td>\n",
       "      <td>Alabama</td>\n",
       "      <td>NativeAmer</td>\n",
       "      <td>0</td>\n",
       "      <td>18.4</td>\n",
       "      <td>89.2</td>\n",
       "      <td>4874747</td>\n",
       "      <td>0</td>\n",
       "    </tr>\n",
       "    <tr>\n",
       "      <th>1</th>\n",
       "      <td>2</td>\n",
       "      <td>Cervix Uteri</td>\n",
       "      <td>Female Genital System</td>\n",
       "      <td>Alabama</td>\n",
       "      <td>AfricanAmer</td>\n",
       "      <td>77</td>\n",
       "      <td>18.4</td>\n",
       "      <td>89.2</td>\n",
       "      <td>4874747</td>\n",
       "      <td>0</td>\n",
       "    </tr>\n",
       "    <tr>\n",
       "      <th>2</th>\n",
       "      <td>3</td>\n",
       "      <td>Cervix Uteri</td>\n",
       "      <td>Female Genital System</td>\n",
       "      <td>Alabama</td>\n",
       "      <td>Caucasian</td>\n",
       "      <td>152</td>\n",
       "      <td>18.4</td>\n",
       "      <td>89.2</td>\n",
       "      <td>4874747</td>\n",
       "      <td>0</td>\n",
       "    </tr>\n",
       "    <tr>\n",
       "      <th>3</th>\n",
       "      <td>4</td>\n",
       "      <td>Corpus Uteri</td>\n",
       "      <td>Female Genital System</td>\n",
       "      <td>Alabama</td>\n",
       "      <td>NativeAmer</td>\n",
       "      <td>0</td>\n",
       "      <td>18.4</td>\n",
       "      <td>89.2</td>\n",
       "      <td>4874747</td>\n",
       "      <td>1</td>\n",
       "    </tr>\n",
       "    <tr>\n",
       "      <th>4</th>\n",
       "      <td>5</td>\n",
       "      <td>Corpus Uteri</td>\n",
       "      <td>Female Genital System</td>\n",
       "      <td>Alabama</td>\n",
       "      <td>AfricanAmer</td>\n",
       "      <td>154</td>\n",
       "      <td>18.4</td>\n",
       "      <td>89.2</td>\n",
       "      <td>4874747</td>\n",
       "      <td>1</td>\n",
       "    </tr>\n",
       "  </tbody>\n",
       "</table>\n",
       "</div>"
      ],
      "text/plain": [
       "   Unnamed: 0          Name               Category    State         Race  \\\n",
       "0           1  Cervix Uteri  Female Genital System  Alabama   NativeAmer   \n",
       "1           2  Cervix Uteri  Female Genital System  Alabama  AfricanAmer   \n",
       "2           3  Cervix Uteri  Female Genital System  Alabama    Caucasian   \n",
       "3           4  Corpus Uteri  Female Genital System  Alabama   NativeAmer   \n",
       "4           5  Corpus Uteri  Female Genital System  Alabama  AfricanAmer   \n",
       "\n",
       "   Count  Poverty%  Insured  Population  NameR  \n",
       "0      0      18.4     89.2     4874747      0  \n",
       "1     77      18.4     89.2     4874747      0  \n",
       "2    152      18.4     89.2     4874747      0  \n",
       "3      0      18.4     89.2     4874747      1  \n",
       "4    154      18.4     89.2     4874747      1  "
      ]
     },
     "execution_count": 2,
     "metadata": {},
     "output_type": "execute_result"
    }
   ],
   "source": [
    "Cancer = pd.read_csv('C:/Users/Aarons/Documents/CancerRename.csv')\n",
    "Cancer.head()"
   ]
  },
  {
   "cell_type": "code",
   "execution_count": 3,
   "id": "8c914443",
   "metadata": {},
   "outputs": [
    {
     "name": "stdout",
     "output_type": "stream",
     "text": [
      "<class 'pandas.core.frame.DataFrame'>\n",
      "RangeIndex: 1075 entries, 0 to 1074\n",
      "Data columns (total 10 columns):\n",
      " #   Column      Non-Null Count  Dtype  \n",
      "---  ------      --------------  -----  \n",
      " 0   Unnamed: 0  1075 non-null   int64  \n",
      " 1   Name        1075 non-null   object \n",
      " 2   Category    1075 non-null   object \n",
      " 3   State       1075 non-null   object \n",
      " 4   Race        1075 non-null   object \n",
      " 5   Count       1075 non-null   int64  \n",
      " 6   Poverty%    1075 non-null   float64\n",
      " 7   Insured     1075 non-null   float64\n",
      " 8   Population  1075 non-null   int64  \n",
      " 9   NameR       1075 non-null   int64  \n",
      "dtypes: float64(2), int64(4), object(4)\n",
      "memory usage: 84.1+ KB\n"
     ]
    }
   ],
   "source": [
    "Cancer.info()"
   ]
  },
  {
   "cell_type": "markdown",
   "id": "6306504c",
   "metadata": {},
   "source": [
    "# Data Wrangling"
   ]
  },
  {
   "cell_type": "code",
   "execution_count": 5,
   "id": "0d2b8567",
   "metadata": {},
   "outputs": [],
   "source": [
    "Cancer2 = Cancer.drop(['Unnamed: 0'], axis = 1)"
   ]
  },
  {
   "cell_type": "code",
   "execution_count": 6,
   "id": "ddfafd60",
   "metadata": {},
   "outputs": [],
   "source": [
    "label_encoder =LabelEncoder()"
   ]
  },
  {
   "cell_type": "code",
   "execution_count": 7,
   "id": "467c4792",
   "metadata": {},
   "outputs": [],
   "source": [
    "Cancer2['State']= label_encoder.fit_transform(Cancer2['State'])\n",
    "Cancer2['Name']= label_encoder.fit_transform(Cancer2['Name'])\n",
    "Cancer2['Race']= label_encoder.fit_transform(Cancer2['Race'])"
   ]
  },
  {
   "cell_type": "code",
   "execution_count": 15,
   "id": "1cbbe36b",
   "metadata": {},
   "outputs": [
    {
     "data": {
      "text/html": [
       "<div>\n",
       "<style scoped>\n",
       "    .dataframe tbody tr th:only-of-type {\n",
       "        vertical-align: middle;\n",
       "    }\n",
       "\n",
       "    .dataframe tbody tr th {\n",
       "        vertical-align: top;\n",
       "    }\n",
       "\n",
       "    .dataframe thead th {\n",
       "        text-align: right;\n",
       "    }\n",
       "</style>\n",
       "<table border=\"1\" class=\"dataframe\">\n",
       "  <thead>\n",
       "    <tr style=\"text-align: right;\">\n",
       "      <th></th>\n",
       "      <th>Name</th>\n",
       "      <th>State</th>\n",
       "      <th>Count</th>\n",
       "      <th>Poverty%</th>\n",
       "      <th>Population</th>\n",
       "      <th>NameR</th>\n",
       "    </tr>\n",
       "  </thead>\n",
       "  <tbody>\n",
       "    <tr>\n",
       "      <th>0</th>\n",
       "      <td>Cervix Uteri</td>\n",
       "      <td>0</td>\n",
       "      <td>0</td>\n",
       "      <td>18.4</td>\n",
       "      <td>4874747</td>\n",
       "      <td>0</td>\n",
       "    </tr>\n",
       "    <tr>\n",
       "      <th>1</th>\n",
       "      <td>Cervix Uteri</td>\n",
       "      <td>0</td>\n",
       "      <td>77</td>\n",
       "      <td>18.4</td>\n",
       "      <td>4874747</td>\n",
       "      <td>0</td>\n",
       "    </tr>\n",
       "    <tr>\n",
       "      <th>2</th>\n",
       "      <td>Cervix Uteri</td>\n",
       "      <td>0</td>\n",
       "      <td>152</td>\n",
       "      <td>18.4</td>\n",
       "      <td>4874747</td>\n",
       "      <td>0</td>\n",
       "    </tr>\n",
       "    <tr>\n",
       "      <th>3</th>\n",
       "      <td>Corpus Uteri</td>\n",
       "      <td>0</td>\n",
       "      <td>0</td>\n",
       "      <td>18.4</td>\n",
       "      <td>4874747</td>\n",
       "      <td>1</td>\n",
       "    </tr>\n",
       "    <tr>\n",
       "      <th>4</th>\n",
       "      <td>Corpus Uteri</td>\n",
       "      <td>0</td>\n",
       "      <td>154</td>\n",
       "      <td>18.4</td>\n",
       "      <td>4874747</td>\n",
       "      <td>1</td>\n",
       "    </tr>\n",
       "  </tbody>\n",
       "</table>\n",
       "</div>"
      ],
      "text/plain": [
       "           Name  State  Count  Poverty%  Population  NameR\n",
       "0  Cervix Uteri      0      0      18.4     4874747      0\n",
       "1  Cervix Uteri      0     77      18.4     4874747      0\n",
       "2  Cervix Uteri      0    152      18.4     4874747      0\n",
       "3  Corpus Uteri      0      0      18.4     4874747      1\n",
       "4  Corpus Uteri      0    154      18.4     4874747      1"
      ]
     },
     "execution_count": 15,
     "metadata": {},
     "output_type": "execute_result"
    }
   ],
   "source": [
    "Cancer2.head()"
   ]
  },
  {
   "cell_type": "code",
   "execution_count": 13,
   "id": "72739096",
   "metadata": {},
   "outputs": [],
   "source": [
    "Cancer2 = Cancer.drop(['Category', 'Insured', 'Unnamed: 0', 'Race'], axis = 1)"
   ]
  },
  {
   "cell_type": "code",
   "execution_count": 14,
   "id": "c001efea",
   "metadata": {},
   "outputs": [],
   "source": [
    "Cancer2['State']= label_encoder.fit_transform(Cancer2['State'])"
   ]
  },
  {
   "cell_type": "markdown",
   "id": "e843f954",
   "metadata": {},
   "source": [
    "# Test Assumptions"
   ]
  },
  {
   "cell_type": "markdown",
   "id": "29b64bf4",
   "metadata": {},
   "source": [
    "## Single Sample t-Test"
   ]
  },
  {
   "cell_type": "code",
   "execution_count": 17,
   "id": "e120fb13",
   "metadata": {},
   "outputs": [
    {
     "data": {
      "text/plain": [
       "<AxesSubplot:>"
      ]
     },
     "execution_count": 17,
     "metadata": {},
     "output_type": "execute_result"
    },
    {
     "data": {
      "image/png": "[encoded data removed]",
      "text/plain": [
       "<Figure size 432x288 with 1 Axes>"
      ]
     },
     "metadata": {
      "needs_background": "light"
     },
     "output_type": "display_data"
    }
   ],
   "source": [
    "Cancer2['Poverty%'].hist()"
   ]
  },
  {
   "cell_type": "code",
   "execution_count": 18,
   "id": "0d5c6181",
   "metadata": {},
   "outputs": [
    {
     "data": {
      "text/plain": [
       "<AxesSubplot:>"
      ]
     },
     "execution_count": 18,
     "metadata": {},
     "output_type": "execute_result"
    },
    {
     "data": {
      "image/png": "[encoded data removed]",
      "text/plain": [
       "<Figure size 432x288 with 1 Axes>"
      ]
     },
     "metadata": {
      "needs_background": "light"
     },
     "output_type": "display_data"
    }
   ],
   "source": [
    "Cancer2['Count'].hist()"
   ]
  },
  {
   "cell_type": "code",
   "execution_count": 19,
   "id": "3bbf6a04",
   "metadata": {},
   "outputs": [
    {
     "data": {
      "text/plain": [
       "<AxesSubplot:>"
      ]
     },
     "execution_count": 19,
     "metadata": {},
     "output_type": "execute_result"
    },
    {
     "data": {
      "image/png": "[encoded data removed]",
      "text/plain": [
       "<Figure size 432x288 with 1 Axes>"
      ]
     },
     "metadata": {
      "needs_background": "light"
     },
     "output_type": "display_data"
    }
   ],
   "source": [
    "Cancer2['Population'].hist()"
   ]
  },
  {
   "cell_type": "markdown",
   "id": "44ea76f6",
   "metadata": {},
   "source": [
    "### Run the Analysis"
   ]
  },
  {
   "cell_type": "code",
   "execution_count": 21,
   "id": "879397ae",
   "metadata": {},
   "outputs": [
    {
     "data": {
      "text/plain": [
       "Ttest_1sampResult(statistic=-262823.9738441351, pvalue=0.0)"
      ]
     },
     "execution_count": 21,
     "metadata": {},
     "output_type": "execute_result"
    }
   ],
   "source": [
    "stats.ttest_1samp(Cancer2['Poverty%'], 25000)"
   ]
  },
  {
   "cell_type": "code",
   "execution_count": 22,
   "id": "9cc90e89",
   "metadata": {},
   "outputs": [
    {
     "data": {
      "text/plain": [
       "Ttest_1sampResult(statistic=-2785.88054228928, pvalue=0.0)"
      ]
     },
     "execution_count": 22,
     "metadata": {},
     "output_type": "execute_result"
    }
   ],
   "source": [
    "stats.ttest_1samp(Cancer2['Count'], 25000)"
   ]
  },
  {
   "cell_type": "code",
   "execution_count": 23,
   "id": "23c6c9d4",
   "metadata": {},
   "outputs": [
    {
     "data": {
      "text/plain": [
       "Ttest_1sampResult(statistic=27.96522641780044, pvalue=9.763783558914398e-130)"
      ]
     },
     "execution_count": 23,
     "metadata": {},
     "output_type": "execute_result"
    }
   ],
   "source": [
    "stats.ttest_1samp(Cancer2['Population'], 25000)"
   ]
  },
  {
   "cell_type": "markdown",
   "id": "e05f7b18",
   "metadata": {},
   "source": [
    "## Dependent t-Test"
   ]
  },
  {
   "cell_type": "markdown",
   "id": "f892f3da",
   "metadata": {},
   "source": [
    "### Test Assumptions"
   ]
  },
  {
   "cell_type": "code",
   "execution_count": 24,
   "id": "7c550ab6",
   "metadata": {},
   "outputs": [
    {
     "data": {
      "text/plain": [
       "Ttest_relResult(statistic=-8.238048557199075, pvalue=5.049321572096361e-16)"
      ]
     },
     "execution_count": 24,
     "metadata": {},
     "output_type": "execute_result"
    }
   ],
   "source": [
    "stats.ttest_rel(Cancer2['Poverty%'], Cancer2['Count'])"
   ]
  },
  {
   "cell_type": "code",
   "execution_count": 25,
   "id": "31dded64",
   "metadata": {},
   "outputs": [
    {
     "data": {
      "text/plain": [
       "Ttest_relResult(statistic=-28.074265323811986, pvalue=1.66768865503652e-130)"
      ]
     },
     "execution_count": 25,
     "metadata": {},
     "output_type": "execute_result"
    }
   ],
   "source": [
    "stats.ttest_rel(Cancer2['Poverty%'], Cancer2['Population'])"
   ]
  },
  {
   "cell_type": "code",
   "execution_count": 26,
   "id": "55298b98",
   "metadata": {},
   "outputs": [
    {
     "data": {
      "text/plain": [
       "Ttest_relResult(statistic=28.074287254761654, pvalue=1.6670958141188884e-130)"
      ]
     },
     "execution_count": 26,
     "metadata": {},
     "output_type": "execute_result"
    }
   ],
   "source": [
    "stats.ttest_rel(Cancer2['Population'], Cancer2['Count'])"
   ]
  },
  {
   "cell_type": "markdown",
   "id": "87199151",
   "metadata": {},
   "source": [
    "## Independent Chi-Square"
   ]
  },
  {
   "cell_type": "markdown",
   "id": "d0ab4847",
   "metadata": {},
   "source": [
    "### Test Assumptions"
   ]
  },
  {
   "cell_type": "markdown",
   "id": "fbbd9da6",
   "metadata": {},
   "source": [
    "#### Create a Contingency Table"
   ]
  },
  {
   "cell_type": "code",
   "execution_count": 28,
   "id": "f046387b",
   "metadata": {},
   "outputs": [
    {
     "data": {
      "text/html": [
       "<div>\n",
       "<style scoped>\n",
       "    .dataframe tbody tr th:only-of-type {\n",
       "        vertical-align: middle;\n",
       "    }\n",
       "\n",
       "    .dataframe tbody tr th {\n",
       "        vertical-align: top;\n",
       "    }\n",
       "\n",
       "    .dataframe thead th {\n",
       "        text-align: right;\n",
       "    }\n",
       "</style>\n",
       "<table border=\"1\" class=\"dataframe\">\n",
       "  <thead>\n",
       "    <tr style=\"text-align: right;\">\n",
       "      <th>Count</th>\n",
       "      <th>0</th>\n",
       "      <th>16</th>\n",
       "      <th>17</th>\n",
       "      <th>18</th>\n",
       "      <th>19</th>\n",
       "      <th>20</th>\n",
       "      <th>21</th>\n",
       "      <th>22</th>\n",
       "      <th>23</th>\n",
       "      <th>24</th>\n",
       "      <th>...</th>\n",
       "      <th>1466</th>\n",
       "      <th>1582</th>\n",
       "      <th>1926</th>\n",
       "      <th>1973</th>\n",
       "      <th>2028</th>\n",
       "      <th>2555</th>\n",
       "      <th>2571</th>\n",
       "      <th>2775</th>\n",
       "      <th>3032</th>\n",
       "      <th>4430</th>\n",
       "    </tr>\n",
       "    <tr>\n",
       "      <th>Poverty%</th>\n",
       "      <th></th>\n",
       "      <th></th>\n",
       "      <th></th>\n",
       "      <th></th>\n",
       "      <th></th>\n",
       "      <th></th>\n",
       "      <th></th>\n",
       "      <th></th>\n",
       "      <th></th>\n",
       "      <th></th>\n",
       "      <th></th>\n",
       "      <th></th>\n",
       "      <th></th>\n",
       "      <th></th>\n",
       "      <th></th>\n",
       "      <th></th>\n",
       "      <th></th>\n",
       "      <th></th>\n",
       "      <th></th>\n",
       "      <th></th>\n",
       "      <th></th>\n",
       "    </tr>\n",
       "  </thead>\n",
       "  <tbody>\n",
       "    <tr>\n",
       "      <th>8.5</th>\n",
       "      <td>23</td>\n",
       "      <td>0</td>\n",
       "      <td>0</td>\n",
       "      <td>0</td>\n",
       "      <td>0</td>\n",
       "      <td>0</td>\n",
       "      <td>0</td>\n",
       "      <td>0</td>\n",
       "      <td>1</td>\n",
       "      <td>0</td>\n",
       "      <td>...</td>\n",
       "      <td>0</td>\n",
       "      <td>0</td>\n",
       "      <td>0</td>\n",
       "      <td>0</td>\n",
       "      <td>0</td>\n",
       "      <td>0</td>\n",
       "      <td>0</td>\n",
       "      <td>0</td>\n",
       "      <td>0</td>\n",
       "      <td>0</td>\n",
       "    </tr>\n",
       "    <tr>\n",
       "      <th>9.9</th>\n",
       "      <td>9</td>\n",
       "      <td>0</td>\n",
       "      <td>4</td>\n",
       "      <td>0</td>\n",
       "      <td>0</td>\n",
       "      <td>0</td>\n",
       "      <td>0</td>\n",
       "      <td>0</td>\n",
       "      <td>1</td>\n",
       "      <td>1</td>\n",
       "      <td>...</td>\n",
       "      <td>0</td>\n",
       "      <td>0</td>\n",
       "      <td>0</td>\n",
       "      <td>0</td>\n",
       "      <td>0</td>\n",
       "      <td>0</td>\n",
       "      <td>0</td>\n",
       "      <td>0</td>\n",
       "      <td>0</td>\n",
       "      <td>0</td>\n",
       "    </tr>\n",
       "    <tr>\n",
       "      <th>10.1</th>\n",
       "      <td>17</td>\n",
       "      <td>0</td>\n",
       "      <td>1</td>\n",
       "      <td>0</td>\n",
       "      <td>0</td>\n",
       "      <td>0</td>\n",
       "      <td>0</td>\n",
       "      <td>0</td>\n",
       "      <td>0</td>\n",
       "      <td>0</td>\n",
       "      <td>...</td>\n",
       "      <td>0</td>\n",
       "      <td>0</td>\n",
       "      <td>0</td>\n",
       "      <td>0</td>\n",
       "      <td>0</td>\n",
       "      <td>0</td>\n",
       "      <td>0</td>\n",
       "      <td>0</td>\n",
       "      <td>0</td>\n",
       "      <td>0</td>\n",
       "    </tr>\n",
       "    <tr>\n",
       "      <th>10.4</th>\n",
       "      <td>12</td>\n",
       "      <td>0</td>\n",
       "      <td>0</td>\n",
       "      <td>1</td>\n",
       "      <td>1</td>\n",
       "      <td>0</td>\n",
       "      <td>0</td>\n",
       "      <td>0</td>\n",
       "      <td>1</td>\n",
       "      <td>0</td>\n",
       "      <td>...</td>\n",
       "      <td>0</td>\n",
       "      <td>0</td>\n",
       "      <td>0</td>\n",
       "      <td>0</td>\n",
       "      <td>0</td>\n",
       "      <td>0</td>\n",
       "      <td>0</td>\n",
       "      <td>0</td>\n",
       "      <td>0</td>\n",
       "      <td>0</td>\n",
       "    </tr>\n",
       "    <tr>\n",
       "      <th>10.8</th>\n",
       "      <td>23</td>\n",
       "      <td>0</td>\n",
       "      <td>1</td>\n",
       "      <td>0</td>\n",
       "      <td>0</td>\n",
       "      <td>0</td>\n",
       "      <td>1</td>\n",
       "      <td>0</td>\n",
       "      <td>0</td>\n",
       "      <td>0</td>\n",
       "      <td>...</td>\n",
       "      <td>0</td>\n",
       "      <td>0</td>\n",
       "      <td>0</td>\n",
       "      <td>0</td>\n",
       "      <td>0</td>\n",
       "      <td>0</td>\n",
       "      <td>0</td>\n",
       "      <td>0</td>\n",
       "      <td>0</td>\n",
       "      <td>0</td>\n",
       "    </tr>\n",
       "  </tbody>\n",
       "</table>\n",
       "<p>5 rows × 224 columns</p>\n",
       "</div>"
      ],
      "text/plain": [
       "Count     0     16    17    18    19    20    21    22    23    24    ...  \\\n",
       "Poverty%                                                              ...   \n",
       "8.5         23     0     0     0     0     0     0     0     1     0  ...   \n",
       "9.9          9     0     4     0     0     0     0     0     1     1  ...   \n",
       "10.1        17     0     1     0     0     0     0     0     0     0  ...   \n",
       "10.4        12     0     0     1     1     0     0     0     1     0  ...   \n",
       "10.8        23     0     1     0     0     0     1     0     0     0  ...   \n",
       "\n",
       "Count     1466  1582  1926  1973  2028  2555  2571  2775  3032  4430  \n",
       "Poverty%                                                              \n",
       "8.5          0     0     0     0     0     0     0     0     0     0  \n",
       "9.9          0     0     0     0     0     0     0     0     0     0  \n",
       "10.1         0     0     0     0     0     0     0     0     0     0  \n",
       "10.4         0     0     0     0     0     0     0     0     0     0  \n",
       "10.8         0     0     0     0     0     0     0     0     0     0  \n",
       "\n",
       "[5 rows x 224 columns]"
      ]
     },
     "execution_count": 28,
     "metadata": {},
     "output_type": "execute_result"
    }
   ],
   "source": [
    "Cancer2_crosstab = pd.crosstab(Cancer2['Poverty%'], Cancer2['Count'])\n",
    "Cancer2_crosstab.head()"
   ]
  },
  {
   "cell_type": "code",
   "execution_count": 29,
   "id": "7eaf7fbd",
   "metadata": {},
   "outputs": [
    {
     "data": {
      "text/html": [
       "<div>\n",
       "<style scoped>\n",
       "    .dataframe tbody tr th:only-of-type {\n",
       "        vertical-align: middle;\n",
       "    }\n",
       "\n",
       "    .dataframe tbody tr th {\n",
       "        vertical-align: top;\n",
       "    }\n",
       "\n",
       "    .dataframe thead th {\n",
       "        text-align: right;\n",
       "    }\n",
       "</style>\n",
       "<table border=\"1\" class=\"dataframe\">\n",
       "  <thead>\n",
       "    <tr style=\"text-align: right;\">\n",
       "      <th>Population</th>\n",
       "      <th>579315</th>\n",
       "      <th>623657</th>\n",
       "      <th>693972</th>\n",
       "      <th>739795</th>\n",
       "      <th>755393</th>\n",
       "      <th>869666</th>\n",
       "      <th>961939</th>\n",
       "      <th>1050493</th>\n",
       "      <th>1059639</th>\n",
       "      <th>1335907</th>\n",
       "      <th>...</th>\n",
       "      <th>9962311</th>\n",
       "      <th>10273419</th>\n",
       "      <th>10429379</th>\n",
       "      <th>11658609</th>\n",
       "      <th>12802023</th>\n",
       "      <th>12805537</th>\n",
       "      <th>19849399</th>\n",
       "      <th>20984400</th>\n",
       "      <th>28304596</th>\n",
       "      <th>39536653</th>\n",
       "    </tr>\n",
       "    <tr>\n",
       "      <th>Poverty%</th>\n",
       "      <th></th>\n",
       "      <th></th>\n",
       "      <th></th>\n",
       "      <th></th>\n",
       "      <th></th>\n",
       "      <th></th>\n",
       "      <th></th>\n",
       "      <th></th>\n",
       "      <th></th>\n",
       "      <th></th>\n",
       "      <th></th>\n",
       "      <th></th>\n",
       "      <th></th>\n",
       "      <th></th>\n",
       "      <th></th>\n",
       "      <th></th>\n",
       "      <th></th>\n",
       "      <th></th>\n",
       "      <th></th>\n",
       "      <th></th>\n",
       "      <th></th>\n",
       "    </tr>\n",
       "  </thead>\n",
       "  <tbody>\n",
       "    <tr>\n",
       "      <th>8.5</th>\n",
       "      <td>0</td>\n",
       "      <td>0</td>\n",
       "      <td>0</td>\n",
       "      <td>0</td>\n",
       "      <td>0</td>\n",
       "      <td>0</td>\n",
       "      <td>0</td>\n",
       "      <td>0</td>\n",
       "      <td>0</td>\n",
       "      <td>0</td>\n",
       "      <td>...</td>\n",
       "      <td>0</td>\n",
       "      <td>0</td>\n",
       "      <td>0</td>\n",
       "      <td>0</td>\n",
       "      <td>0</td>\n",
       "      <td>0</td>\n",
       "      <td>0</td>\n",
       "      <td>0</td>\n",
       "      <td>0</td>\n",
       "      <td>0</td>\n",
       "    </tr>\n",
       "    <tr>\n",
       "      <th>9.9</th>\n",
       "      <td>0</td>\n",
       "      <td>0</td>\n",
       "      <td>0</td>\n",
       "      <td>0</td>\n",
       "      <td>0</td>\n",
       "      <td>0</td>\n",
       "      <td>0</td>\n",
       "      <td>0</td>\n",
       "      <td>0</td>\n",
       "      <td>0</td>\n",
       "      <td>...</td>\n",
       "      <td>0</td>\n",
       "      <td>0</td>\n",
       "      <td>0</td>\n",
       "      <td>0</td>\n",
       "      <td>0</td>\n",
       "      <td>0</td>\n",
       "      <td>0</td>\n",
       "      <td>0</td>\n",
       "      <td>0</td>\n",
       "      <td>0</td>\n",
       "    </tr>\n",
       "    <tr>\n",
       "      <th>10.1</th>\n",
       "      <td>0</td>\n",
       "      <td>0</td>\n",
       "      <td>0</td>\n",
       "      <td>20</td>\n",
       "      <td>0</td>\n",
       "      <td>0</td>\n",
       "      <td>0</td>\n",
       "      <td>0</td>\n",
       "      <td>0</td>\n",
       "      <td>0</td>\n",
       "      <td>...</td>\n",
       "      <td>0</td>\n",
       "      <td>0</td>\n",
       "      <td>0</td>\n",
       "      <td>0</td>\n",
       "      <td>0</td>\n",
       "      <td>0</td>\n",
       "      <td>0</td>\n",
       "      <td>0</td>\n",
       "      <td>0</td>\n",
       "      <td>0</td>\n",
       "    </tr>\n",
       "    <tr>\n",
       "      <th>10.4</th>\n",
       "      <td>0</td>\n",
       "      <td>0</td>\n",
       "      <td>0</td>\n",
       "      <td>0</td>\n",
       "      <td>0</td>\n",
       "      <td>0</td>\n",
       "      <td>0</td>\n",
       "      <td>0</td>\n",
       "      <td>0</td>\n",
       "      <td>0</td>\n",
       "      <td>...</td>\n",
       "      <td>0</td>\n",
       "      <td>0</td>\n",
       "      <td>0</td>\n",
       "      <td>0</td>\n",
       "      <td>0</td>\n",
       "      <td>0</td>\n",
       "      <td>0</td>\n",
       "      <td>0</td>\n",
       "      <td>0</td>\n",
       "      <td>0</td>\n",
       "    </tr>\n",
       "    <tr>\n",
       "      <th>10.8</th>\n",
       "      <td>0</td>\n",
       "      <td>0</td>\n",
       "      <td>0</td>\n",
       "      <td>0</td>\n",
       "      <td>0</td>\n",
       "      <td>0</td>\n",
       "      <td>0</td>\n",
       "      <td>0</td>\n",
       "      <td>0</td>\n",
       "      <td>0</td>\n",
       "      <td>...</td>\n",
       "      <td>0</td>\n",
       "      <td>0</td>\n",
       "      <td>0</td>\n",
       "      <td>0</td>\n",
       "      <td>0</td>\n",
       "      <td>0</td>\n",
       "      <td>0</td>\n",
       "      <td>0</td>\n",
       "      <td>0</td>\n",
       "      <td>0</td>\n",
       "    </tr>\n",
       "  </tbody>\n",
       "</table>\n",
       "<p>5 rows × 51 columns</p>\n",
       "</div>"
      ],
      "text/plain": [
       "Population  579315    623657    693972    739795    755393    869666    \\\n",
       "Poverty%                                                                 \n",
       "8.5                0         0         0         0         0         0   \n",
       "9.9                0         0         0         0         0         0   \n",
       "10.1               0         0         0        20         0         0   \n",
       "10.4               0         0         0         0         0         0   \n",
       "10.8               0         0         0         0         0         0   \n",
       "\n",
       "Population  961939    1050493   1059639   1335907   ...  9962311   10273419  \\\n",
       "Poverty%                                            ...                       \n",
       "8.5                0         0         0         0  ...         0         0   \n",
       "9.9                0         0         0         0  ...         0         0   \n",
       "10.1               0         0         0         0  ...         0         0   \n",
       "10.4               0         0         0         0  ...         0         0   \n",
       "10.8               0         0         0         0  ...         0         0   \n",
       "\n",
       "Population  10429379  11658609  12802023  12805537  19849399  20984400  \\\n",
       "Poverty%                                                                 \n",
       "8.5                0         0         0         0         0         0   \n",
       "9.9                0         0         0         0         0         0   \n",
       "10.1               0         0         0         0         0         0   \n",
       "10.4               0         0         0         0         0         0   \n",
       "10.8               0         0         0         0         0         0   \n",
       "\n",
       "Population  28304596  39536653  \n",
       "Poverty%                        \n",
       "8.5                0         0  \n",
       "9.9                0         0  \n",
       "10.1               0         0  \n",
       "10.4               0         0  \n",
       "10.8               0         0  \n",
       "\n",
       "[5 rows x 51 columns]"
      ]
     },
     "execution_count": 29,
     "metadata": {},
     "output_type": "execute_result"
    }
   ],
   "source": [
    "Cancer3_crosstab = pd.crosstab(Cancer2['Poverty%'], Cancer2['Population'])\n",
    "Cancer3_crosstab.head()"
   ]
  },
  {
   "cell_type": "code",
   "execution_count": 30,
   "id": "1694aecf",
   "metadata": {},
   "outputs": [
    {
     "data": {
      "text/html": [
       "<div>\n",
       "<style scoped>\n",
       "    .dataframe tbody tr th:only-of-type {\n",
       "        vertical-align: middle;\n",
       "    }\n",
       "\n",
       "    .dataframe tbody tr th {\n",
       "        vertical-align: top;\n",
       "    }\n",
       "\n",
       "    .dataframe thead th {\n",
       "        text-align: right;\n",
       "    }\n",
       "</style>\n",
       "<table border=\"1\" class=\"dataframe\">\n",
       "  <thead>\n",
       "    <tr style=\"text-align: right;\">\n",
       "      <th>Count</th>\n",
       "      <th>0</th>\n",
       "      <th>16</th>\n",
       "      <th>17</th>\n",
       "      <th>18</th>\n",
       "      <th>19</th>\n",
       "      <th>20</th>\n",
       "      <th>21</th>\n",
       "      <th>22</th>\n",
       "      <th>23</th>\n",
       "      <th>24</th>\n",
       "      <th>...</th>\n",
       "      <th>1466</th>\n",
       "      <th>1582</th>\n",
       "      <th>1926</th>\n",
       "      <th>1973</th>\n",
       "      <th>2028</th>\n",
       "      <th>2555</th>\n",
       "      <th>2571</th>\n",
       "      <th>2775</th>\n",
       "      <th>3032</th>\n",
       "      <th>4430</th>\n",
       "    </tr>\n",
       "    <tr>\n",
       "      <th>Population</th>\n",
       "      <th></th>\n",
       "      <th></th>\n",
       "      <th></th>\n",
       "      <th></th>\n",
       "      <th></th>\n",
       "      <th></th>\n",
       "      <th></th>\n",
       "      <th></th>\n",
       "      <th></th>\n",
       "      <th></th>\n",
       "      <th></th>\n",
       "      <th></th>\n",
       "      <th></th>\n",
       "      <th></th>\n",
       "      <th></th>\n",
       "      <th></th>\n",
       "      <th></th>\n",
       "      <th></th>\n",
       "      <th></th>\n",
       "      <th></th>\n",
       "      <th></th>\n",
       "    </tr>\n",
       "  </thead>\n",
       "  <tbody>\n",
       "    <tr>\n",
       "      <th>579315</th>\n",
       "      <td>27</td>\n",
       "      <td>0</td>\n",
       "      <td>0</td>\n",
       "      <td>0</td>\n",
       "      <td>0</td>\n",
       "      <td>0</td>\n",
       "      <td>0</td>\n",
       "      <td>0</td>\n",
       "      <td>0</td>\n",
       "      <td>0</td>\n",
       "      <td>...</td>\n",
       "      <td>0</td>\n",
       "      <td>0</td>\n",
       "      <td>0</td>\n",
       "      <td>0</td>\n",
       "      <td>0</td>\n",
       "      <td>0</td>\n",
       "      <td>0</td>\n",
       "      <td>0</td>\n",
       "      <td>0</td>\n",
       "      <td>0</td>\n",
       "    </tr>\n",
       "    <tr>\n",
       "      <th>623657</th>\n",
       "      <td>26</td>\n",
       "      <td>0</td>\n",
       "      <td>0</td>\n",
       "      <td>0</td>\n",
       "      <td>0</td>\n",
       "      <td>0</td>\n",
       "      <td>0</td>\n",
       "      <td>0</td>\n",
       "      <td>0</td>\n",
       "      <td>0</td>\n",
       "      <td>...</td>\n",
       "      <td>0</td>\n",
       "      <td>0</td>\n",
       "      <td>0</td>\n",
       "      <td>0</td>\n",
       "      <td>0</td>\n",
       "      <td>0</td>\n",
       "      <td>0</td>\n",
       "      <td>0</td>\n",
       "      <td>0</td>\n",
       "      <td>0</td>\n",
       "    </tr>\n",
       "    <tr>\n",
       "      <th>693972</th>\n",
       "      <td>15</td>\n",
       "      <td>0</td>\n",
       "      <td>0</td>\n",
       "      <td>0</td>\n",
       "      <td>2</td>\n",
       "      <td>0</td>\n",
       "      <td>0</td>\n",
       "      <td>0</td>\n",
       "      <td>0</td>\n",
       "      <td>0</td>\n",
       "      <td>...</td>\n",
       "      <td>0</td>\n",
       "      <td>0</td>\n",
       "      <td>0</td>\n",
       "      <td>0</td>\n",
       "      <td>0</td>\n",
       "      <td>0</td>\n",
       "      <td>0</td>\n",
       "      <td>0</td>\n",
       "      <td>0</td>\n",
       "      <td>0</td>\n",
       "    </tr>\n",
       "    <tr>\n",
       "      <th>739795</th>\n",
       "      <td>17</td>\n",
       "      <td>0</td>\n",
       "      <td>1</td>\n",
       "      <td>0</td>\n",
       "      <td>0</td>\n",
       "      <td>0</td>\n",
       "      <td>0</td>\n",
       "      <td>0</td>\n",
       "      <td>0</td>\n",
       "      <td>0</td>\n",
       "      <td>...</td>\n",
       "      <td>0</td>\n",
       "      <td>0</td>\n",
       "      <td>0</td>\n",
       "      <td>0</td>\n",
       "      <td>0</td>\n",
       "      <td>0</td>\n",
       "      <td>0</td>\n",
       "      <td>0</td>\n",
       "      <td>0</td>\n",
       "      <td>0</td>\n",
       "    </tr>\n",
       "    <tr>\n",
       "      <th>755393</th>\n",
       "      <td>21</td>\n",
       "      <td>0</td>\n",
       "      <td>0</td>\n",
       "      <td>0</td>\n",
       "      <td>0</td>\n",
       "      <td>0</td>\n",
       "      <td>0</td>\n",
       "      <td>0</td>\n",
       "      <td>0</td>\n",
       "      <td>0</td>\n",
       "      <td>...</td>\n",
       "      <td>0</td>\n",
       "      <td>0</td>\n",
       "      <td>0</td>\n",
       "      <td>0</td>\n",
       "      <td>0</td>\n",
       "      <td>0</td>\n",
       "      <td>0</td>\n",
       "      <td>0</td>\n",
       "      <td>0</td>\n",
       "      <td>0</td>\n",
       "    </tr>\n",
       "  </tbody>\n",
       "</table>\n",
       "<p>5 rows × 224 columns</p>\n",
       "</div>"
      ],
      "text/plain": [
       "Count       0     16    17    18    19    20    21    22    23    24    ...  \\\n",
       "Population                                                              ...   \n",
       "579315        27     0     0     0     0     0     0     0     0     0  ...   \n",
       "623657        26     0     0     0     0     0     0     0     0     0  ...   \n",
       "693972        15     0     0     0     2     0     0     0     0     0  ...   \n",
       "739795        17     0     1     0     0     0     0     0     0     0  ...   \n",
       "755393        21     0     0     0     0     0     0     0     0     0  ...   \n",
       "\n",
       "Count       1466  1582  1926  1973  2028  2555  2571  2775  3032  4430  \n",
       "Population                                                              \n",
       "579315         0     0     0     0     0     0     0     0     0     0  \n",
       "623657         0     0     0     0     0     0     0     0     0     0  \n",
       "693972         0     0     0     0     0     0     0     0     0     0  \n",
       "739795         0     0     0     0     0     0     0     0     0     0  \n",
       "755393         0     0     0     0     0     0     0     0     0     0  \n",
       "\n",
       "[5 rows x 224 columns]"
      ]
     },
     "execution_count": 30,
     "metadata": {},
     "output_type": "execute_result"
    }
   ],
   "source": [
    "Cancer4_crosstab = pd.crosstab(Cancer2['Population'], Cancer2['Count'])\n",
    "Cancer4_crosstab.head()"
   ]
  },
  {
   "cell_type": "markdown",
   "id": "04f456ad",
   "metadata": {},
   "source": [
    "#### Running the Independent Chi-Square"
   ]
  },
  {
   "cell_type": "code",
   "execution_count": 31,
   "id": "8d8f7518",
   "metadata": {},
   "outputs": [
    {
     "data": {
      "text/plain": [
       "(9304.077370585987,\n",
       " 0.0022538331020381945,\n",
       " 8920,\n",
       " array([[16.17488372,  0.26046512,  0.2344186 , ...,  0.02604651,\n",
       "          0.02604651,  0.02604651],\n",
       "        [13.86418605,  0.22325581,  0.20093023, ...,  0.02232558,\n",
       "          0.02232558,  0.02232558],\n",
       "        [11.55348837,  0.18604651,  0.16744186, ...,  0.01860465,\n",
       "          0.01860465,  0.01860465],\n",
       "        ...,\n",
       "        [12.13116279,  0.19534884,  0.17581395, ...,  0.01953488,\n",
       "          0.01953488,  0.01953488],\n",
       "        [12.70883721,  0.20465116,  0.18418605, ...,  0.02046512,\n",
       "          0.02046512,  0.02046512],\n",
       "        [12.13116279,  0.19534884,  0.17581395, ...,  0.01953488,\n",
       "          0.01953488,  0.01953488]]))"
      ]
     },
     "execution_count": 31,
     "metadata": {},
     "output_type": "execute_result"
    }
   ],
   "source": [
    "stats.chi2_contingency(Cancer2_crosstab)"
   ]
  },
  {
   "cell_type": "code",
   "execution_count": 32,
   "id": "e9c355fc",
   "metadata": {},
   "outputs": [
    {
     "data": {
      "text/plain": [
       "(43000.0,\n",
       " 0.0,\n",
       " 2000,\n",
       " array([[0.75534884, 0.72930233, 0.49488372, ..., 0.65116279, 0.54697674,\n",
       "         0.59906977],\n",
       "        [0.64744186, 0.62511628, 0.42418605, ..., 0.55813953, 0.46883721,\n",
       "         0.51348837],\n",
       "        [0.53953488, 0.52093023, 0.35348837, ..., 0.46511628, 0.39069767,\n",
       "         0.42790698],\n",
       "        ...,\n",
       "        [0.56651163, 0.54697674, 0.37116279, ..., 0.48837209, 0.41023256,\n",
       "         0.44930233],\n",
       "        [0.59348837, 0.57302326, 0.38883721, ..., 0.51162791, 0.42976744,\n",
       "         0.47069767],\n",
       "        [0.56651163, 0.54697674, 0.37116279, ..., 0.48837209, 0.41023256,\n",
       "         0.44930233]]))"
      ]
     },
     "execution_count": 32,
     "metadata": {},
     "output_type": "execute_result"
    }
   ],
   "source": [
    "stats.chi2_contingency(Cancer3_crosstab)"
   ]
  },
  {
   "cell_type": "code",
   "execution_count": 33,
   "id": "00d76254",
   "metadata": {},
   "outputs": [
    {
     "data": {
      "text/plain": [
       "(11574.502752573098,\n",
       " 0.002462979784294,\n",
       " 11150,\n",
       " array([[16.75255814,  0.26976744,  0.2427907 , ...,  0.02697674,\n",
       "          0.02697674,  0.02697674],\n",
       "        [16.17488372,  0.26046512,  0.2344186 , ...,  0.02604651,\n",
       "          0.02604651,  0.02604651],\n",
       "        [10.97581395,  0.17674419,  0.15906977, ...,  0.01767442,\n",
       "          0.01767442,  0.01767442],\n",
       "        ...,\n",
       "        [14.44186047,  0.23255814,  0.20930233, ...,  0.02325581,\n",
       "          0.02325581,  0.02325581],\n",
       "        [12.13116279,  0.19534884,  0.17581395, ...,  0.01953488,\n",
       "          0.01953488,  0.01953488],\n",
       "        [13.28651163,  0.21395349,  0.19255814, ...,  0.02139535,\n",
       "          0.02139535,  0.02139535]]))"
      ]
     },
     "execution_count": 33,
     "metadata": {},
     "output_type": "execute_result"
    }
   ],
   "source": [
    "stats.chi2_contingency(Cancer4_crosstab)"
   ]
  },
  {
   "cell_type": "markdown",
   "id": "fd876ab8",
   "metadata": {},
   "source": [
    "## Correlation"
   ]
  },
  {
   "cell_type": "markdown",
   "id": "6c3b18f0",
   "metadata": {},
   "source": [
    "### Using .corr() on An Entire Dataset"
   ]
  },
  {
   "cell_type": "code",
   "execution_count": 34,
   "id": "a883d2ef",
   "metadata": {},
   "outputs": [
    {
     "data": {
      "text/html": [
       "<div>\n",
       "<style scoped>\n",
       "    .dataframe tbody tr th:only-of-type {\n",
       "        vertical-align: middle;\n",
       "    }\n",
       "\n",
       "    .dataframe tbody tr th {\n",
       "        vertical-align: top;\n",
       "    }\n",
       "\n",
       "    .dataframe thead th {\n",
       "        text-align: right;\n",
       "    }\n",
       "</style>\n",
       "<table border=\"1\" class=\"dataframe\">\n",
       "  <thead>\n",
       "    <tr style=\"text-align: right;\">\n",
       "      <th></th>\n",
       "      <th>State</th>\n",
       "      <th>Count</th>\n",
       "      <th>Poverty%</th>\n",
       "      <th>Population</th>\n",
       "      <th>NameR</th>\n",
       "    </tr>\n",
       "  </thead>\n",
       "  <tbody>\n",
       "    <tr>\n",
       "      <th>State</th>\n",
       "      <td>1.000000</td>\n",
       "      <td>-0.031761</td>\n",
       "      <td>-0.122698</td>\n",
       "      <td>-0.118653</td>\n",
       "      <td>0.007005</td>\n",
       "    </tr>\n",
       "    <tr>\n",
       "      <th>Count</th>\n",
       "      <td>-0.031761</td>\n",
       "      <td>1.000000</td>\n",
       "      <td>0.054087</td>\n",
       "      <td>0.315336</td>\n",
       "      <td>-0.219910</td>\n",
       "    </tr>\n",
       "    <tr>\n",
       "      <th>Poverty%</th>\n",
       "      <td>-0.122698</td>\n",
       "      <td>0.054087</td>\n",
       "      <td>1.000000</td>\n",
       "      <td>0.189532</td>\n",
       "      <td>0.019429</td>\n",
       "    </tr>\n",
       "    <tr>\n",
       "      <th>Population</th>\n",
       "      <td>-0.118653</td>\n",
       "      <td>0.315336</td>\n",
       "      <td>0.189532</td>\n",
       "      <td>1.000000</td>\n",
       "      <td>-0.092409</td>\n",
       "    </tr>\n",
       "    <tr>\n",
       "      <th>NameR</th>\n",
       "      <td>0.007005</td>\n",
       "      <td>-0.219910</td>\n",
       "      <td>0.019429</td>\n",
       "      <td>-0.092409</td>\n",
       "      <td>1.000000</td>\n",
       "    </tr>\n",
       "  </tbody>\n",
       "</table>\n",
       "</div>"
      ],
      "text/plain": [
       "               State     Count  Poverty%  Population     NameR\n",
       "State       1.000000 -0.031761 -0.122698   -0.118653  0.007005\n",
       "Count      -0.031761  1.000000  0.054087    0.315336 -0.219910\n",
       "Poverty%   -0.122698  0.054087  1.000000    0.189532  0.019429\n",
       "Population -0.118653  0.315336  0.189532    1.000000 -0.092409\n",
       "NameR       0.007005 -0.219910  0.019429   -0.092409  1.000000"
      ]
     },
     "execution_count": 34,
     "metadata": {},
     "output_type": "execute_result"
    }
   ],
   "source": [
    "Cancer2.corr(method='pearson')"
   ]
  },
  {
   "cell_type": "code",
   "execution_count": 35,
   "id": "c09f3515",
   "metadata": {},
   "outputs": [
    {
     "data": {
      "text/html": [
       "<style  type=\"text/css\" >\n",
       "#T_09dd9_row0_col0,#T_09dd9_row1_col1,#T_09dd9_row2_col2,#T_09dd9_row3_col3,#T_09dd9_row4_col4{\n",
       "            background-color:  #b40426;\n",
       "            color:  #f1f1f1;\n",
       "        }#T_09dd9_row0_col1{\n",
       "            background-color:  #536edd;\n",
       "            color:  #000000;\n",
       "        }#T_09dd9_row0_col2,#T_09dd9_row0_col3,#T_09dd9_row1_col4,#T_09dd9_row2_col0,#T_09dd9_row3_col0,#T_09dd9_row4_col1{\n",
       "            background-color:  #3b4cc0;\n",
       "            color:  #f1f1f1;\n",
       "        }#T_09dd9_row0_col4{\n",
       "            background-color:  #5e7de7;\n",
       "            color:  #000000;\n",
       "        }#T_09dd9_row1_col0{\n",
       "            background-color:  #6b8df0;\n",
       "            color:  #000000;\n",
       "        }#T_09dd9_row1_col2{\n",
       "            background-color:  #84a7fc;\n",
       "            color:  #000000;\n",
       "        }#T_09dd9_row1_col3{\n",
       "            background-color:  #ccd9ed;\n",
       "            color:  #000000;\n",
       "        }#T_09dd9_row2_col1{\n",
       "            background-color:  #6c8ff1;\n",
       "            color:  #000000;\n",
       "        }#T_09dd9_row2_col3{\n",
       "            background-color:  #97b8ff;\n",
       "            color:  #000000;\n",
       "        }#T_09dd9_row2_col4{\n",
       "            background-color:  #6282ea;\n",
       "            color:  #000000;\n",
       "        }#T_09dd9_row3_col1{\n",
       "            background-color:  #bcd2f7;\n",
       "            color:  #000000;\n",
       "        }#T_09dd9_row3_col2{\n",
       "            background-color:  #96b7ff;\n",
       "            color:  #000000;\n",
       "        }#T_09dd9_row3_col4{\n",
       "            background-color:  #4257c9;\n",
       "            color:  #f1f1f1;\n",
       "        }#T_09dd9_row4_col0{\n",
       "            background-color:  #7699f6;\n",
       "            color:  #000000;\n",
       "        }#T_09dd9_row4_col2{\n",
       "            background-color:  #7a9df8;\n",
       "            color:  #000000;\n",
       "        }#T_09dd9_row4_col3{\n",
       "            background-color:  #5a78e4;\n",
       "            color:  #000000;\n",
       "        }</style><table id=\"T_09dd9_\" ><thead>    <tr>        <th class=\"blank level0\" ></th>        <th class=\"col_heading level0 col0\" >State</th>        <th class=\"col_heading level0 col1\" >Count</th>        <th class=\"col_heading level0 col2\" >Poverty%</th>        <th class=\"col_heading level0 col3\" >Population</th>        <th class=\"col_heading level0 col4\" >NameR</th>    </tr></thead><tbody>\n",
       "                <tr>\n",
       "                        <th id=\"T_09dd9_level0_row0\" class=\"row_heading level0 row0\" >State</th>\n",
       "                        <td id=\"T_09dd9_row0_col0\" class=\"data row0 col0\" >1.0</td>\n",
       "                        <td id=\"T_09dd9_row0_col1\" class=\"data row0 col1\" >-0.032</td>\n",
       "                        <td id=\"T_09dd9_row0_col2\" class=\"data row0 col2\" >-0.12</td>\n",
       "                        <td id=\"T_09dd9_row0_col3\" class=\"data row0 col3\" >-0.12</td>\n",
       "                        <td id=\"T_09dd9_row0_col4\" class=\"data row0 col4\" >0.007</td>\n",
       "            </tr>\n",
       "            <tr>\n",
       "                        <th id=\"T_09dd9_level0_row1\" class=\"row_heading level0 row1\" >Count</th>\n",
       "                        <td id=\"T_09dd9_row1_col0\" class=\"data row1 col0\" >-0.032</td>\n",
       "                        <td id=\"T_09dd9_row1_col1\" class=\"data row1 col1\" >1.0</td>\n",
       "                        <td id=\"T_09dd9_row1_col2\" class=\"data row1 col2\" >0.054</td>\n",
       "                        <td id=\"T_09dd9_row1_col3\" class=\"data row1 col3\" >0.32</td>\n",
       "                        <td id=\"T_09dd9_row1_col4\" class=\"data row1 col4\" >-0.22</td>\n",
       "            </tr>\n",
       "            <tr>\n",
       "                        <th id=\"T_09dd9_level0_row2\" class=\"row_heading level0 row2\" >Poverty%</th>\n",
       "                        <td id=\"T_09dd9_row2_col0\" class=\"data row2 col0\" >-0.12</td>\n",
       "                        <td id=\"T_09dd9_row2_col1\" class=\"data row2 col1\" >0.054</td>\n",
       "                        <td id=\"T_09dd9_row2_col2\" class=\"data row2 col2\" >1.0</td>\n",
       "                        <td id=\"T_09dd9_row2_col3\" class=\"data row2 col3\" >0.19</td>\n",
       "                        <td id=\"T_09dd9_row2_col4\" class=\"data row2 col4\" >0.019</td>\n",
       "            </tr>\n",
       "            <tr>\n",
       "                        <th id=\"T_09dd9_level0_row3\" class=\"row_heading level0 row3\" >Population</th>\n",
       "                        <td id=\"T_09dd9_row3_col0\" class=\"data row3 col0\" >-0.12</td>\n",
       "                        <td id=\"T_09dd9_row3_col1\" class=\"data row3 col1\" >0.32</td>\n",
       "                        <td id=\"T_09dd9_row3_col2\" class=\"data row3 col2\" >0.19</td>\n",
       "                        <td id=\"T_09dd9_row3_col3\" class=\"data row3 col3\" >1.0</td>\n",
       "                        <td id=\"T_09dd9_row3_col4\" class=\"data row3 col4\" >-0.092</td>\n",
       "            </tr>\n",
       "            <tr>\n",
       "                        <th id=\"T_09dd9_level0_row4\" class=\"row_heading level0 row4\" >NameR</th>\n",
       "                        <td id=\"T_09dd9_row4_col0\" class=\"data row4 col0\" >0.007</td>\n",
       "                        <td id=\"T_09dd9_row4_col1\" class=\"data row4 col1\" >-0.22</td>\n",
       "                        <td id=\"T_09dd9_row4_col2\" class=\"data row4 col2\" >0.019</td>\n",
       "                        <td id=\"T_09dd9_row4_col3\" class=\"data row4 col3\" >-0.092</td>\n",
       "                        <td id=\"T_09dd9_row4_col4\" class=\"data row4 col4\" >1.0</td>\n",
       "            </tr>\n",
       "    </tbody></table>"
      ],
      "text/plain": [
       "<pandas.io.formats.style.Styler at 0x1863851afa0>"
      ]
     },
     "execution_count": 35,
     "metadata": {},
     "output_type": "execute_result"
    }
   ],
   "source": [
    "Cancer2.corr(method='pearson').style.format(\"{:.2}\").background_gradient(cmap=plt.get_cmap('coolwarm'), axis=1)"
   ]
  },
  {
   "cell_type": "markdown",
   "id": "241793bd",
   "metadata": {},
   "source": [
    "### Use sns.heatmap()"
   ]
  },
  {
   "cell_type": "code",
   "execution_count": 36,
   "id": "0a277bfd",
   "metadata": {},
   "outputs": [
    {
     "data": {
      "text/plain": [
       "<AxesSubplot:>"
      ]
     },
     "execution_count": 36,
     "metadata": {},
     "output_type": "execute_result"
    },
    {
     "data": {
      "image/png": "[encoded data removed]",
      "text/plain": [
       "<Figure size 432x288 with 2 Axes>"
      ]
     },
     "metadata": {
      "needs_background": "light"
     },
     "output_type": "display_data"
    }
   ],
   "source": [
    "sns.heatmap(Cancer2.corr(), annot=True)"
   ]
  },
  {
   "cell_type": "markdown",
   "id": "bd69a6fb",
   "metadata": {},
   "source": [
    "## McNemar Chi-Square Python"
   ]
  },
  {
   "cell_type": "markdown",
   "id": "9e845fc0",
   "metadata": {},
   "source": [
    "### Does Poverty effect the number of Cancer Cases?"
   ]
  },
  {
   "cell_type": "code",
   "execution_count": 37,
   "id": "f94f1d17",
   "metadata": {},
   "outputs": [
    {
     "data": {
      "text/plain": [
       "Text(0, 0.5, 'Count')"
      ]
     },
     "execution_count": 37,
     "metadata": {},
     "output_type": "execute_result"
    },
    {
     "data": {
      "image/png": "[encoded data removed]",
      "text/plain": [
       "<Figure size 432x288 with 2 Axes>"
      ]
     },
     "metadata": {
      "needs_background": "light"
     },
     "output_type": "display_data"
    }
   ],
   "source": [
    "Plot = Cancer2.plot.scatter(x='Poverty%', y='Count', c='Population', cmap='coolwarm' )\n",
    "Plot.set_title(\"Cancer Case by Poverty \")\n",
    "Plot.set_xlabel(\"Poverty\")\n",
    "Plot.set_ylabel(\"Count\")"
   ]
  },
  {
   "cell_type": "markdown",
   "id": "6ed02e30",
   "metadata": {},
   "source": [
    "### Test Assumptions and Run Analyses"
   ]
  },
  {
   "cell_type": "code",
   "execution_count": 38,
   "id": "4564a242",
   "metadata": {},
   "outputs": [
    {
     "name": "stdout",
     "output_type": "stream",
     "text": [
      "pvalue      4.489784498638631e-06\n",
      "statistic   21.043478260869566\n"
     ]
    }
   ],
   "source": [
    "result = sm.stats.contingency_tables.mcnemar(Cancer2_crosstab, exact=False, correction=True)\n",
    "print(result)"
   ]
  },
  {
   "cell_type": "markdown",
   "id": "4061b15c",
   "metadata": {},
   "source": [
    "##### It's significant - the p value is less than .05. "
   ]
  },
  {
   "cell_type": "markdown",
   "id": "3b2e7a37",
   "metadata": {},
   "source": [
    "## Visualizing Transformations"
   ]
  },
  {
   "cell_type": "code",
   "execution_count": 40,
   "id": "6a968275",
   "metadata": {},
   "outputs": [
    {
     "name": "stderr",
     "output_type": "stream",
     "text": [
      "C:\\Users\\Aarons\\anaconda3\\lib\\site-packages\\seaborn\\distributions.py:2557: FutureWarning: `distplot` is a deprecated function and will be removed in a future version. Please adapt your code to use either `displot` (a figure-level function with similar flexibility) or `histplot` (an axes-level function for histograms).\n",
      "  warnings.warn(msg, FutureWarning)\n"
     ]
    },
    {
     "data": {
      "text/plain": [
       "<AxesSubplot:xlabel='Poverty%', ylabel='Density'>"
      ]
     },
     "execution_count": 40,
     "metadata": {},
     "output_type": "execute_result"
    },
    {
     "data": {
      "image/png": "[encoded data removed]",
      "text/plain": [
       "<Figure size 432x288 with 1 Axes>"
      ]
     },
     "metadata": {
      "needs_background": "light"
     },
     "output_type": "display_data"
    }
   ],
   "source": [
    "sns.distplot(Cancer2['Poverty%'])"
   ]
  },
  {
   "cell_type": "code",
   "execution_count": 41,
   "id": "8fd1eef5",
   "metadata": {},
   "outputs": [
    {
     "name": "stderr",
     "output_type": "stream",
     "text": [
      "C:\\Users\\Aarons\\anaconda3\\lib\\site-packages\\seaborn\\distributions.py:2557: FutureWarning: `distplot` is a deprecated function and will be removed in a future version. Please adapt your code to use either `displot` (a figure-level function with similar flexibility) or `histplot` (an axes-level function for histograms).\n",
      "  warnings.warn(msg, FutureWarning)\n"
     ]
    },
    {
     "data": {
      "text/plain": [
       "<AxesSubplot:xlabel='Count', ylabel='Density'>"
      ]
     },
     "execution_count": 41,
     "metadata": {},
     "output_type": "execute_result"
    },
    {
     "data": {
      "image/png": "[encoded data removed]",
      "text/plain": [
       "<Figure size 432x288 with 1 Axes>"
      ]
     },
     "metadata": {
      "needs_background": "light"
     },
     "output_type": "display_data"
    }
   ],
   "source": [
    "sns.distplot(Cancer2['Count'])"
   ]
  },
  {
   "cell_type": "code",
   "execution_count": 42,
   "id": "214667b4",
   "metadata": {},
   "outputs": [
    {
     "name": "stderr",
     "output_type": "stream",
     "text": [
      "C:\\Users\\Aarons\\anaconda3\\lib\\site-packages\\seaborn\\distributions.py:2557: FutureWarning: `distplot` is a deprecated function and will be removed in a future version. Please adapt your code to use either `displot` (a figure-level function with similar flexibility) or `histplot` (an axes-level function for histograms).\n",
      "  warnings.warn(msg, FutureWarning)\n"
     ]
    },
    {
     "data": {
      "text/plain": [
       "<AxesSubplot:xlabel='Population', ylabel='Density'>"
      ]
     },
     "execution_count": 42,
     "metadata": {},
     "output_type": "execute_result"
    },
    {
     "data": {
      "image/png": "[encoded data removed]",
      "text/plain": [
       "<Figure size 432x288 with 1 Axes>"
      ]
     },
     "metadata": {
      "needs_background": "light"
     },
     "output_type": "display_data"
    }
   ],
   "source": [
    "sns.distplot(Cancer2['Population'])"
   ]
  },
  {
   "cell_type": "markdown",
   "id": "bc862322",
   "metadata": {},
   "source": [
    "### Transforming Positively Skewed Data"
   ]
  },
  {
   "cell_type": "code",
   "execution_count": 43,
   "id": "98d7dd9d",
   "metadata": {},
   "outputs": [],
   "source": [
    "Cancer2['CountSQRT'] = np.sqrt(Cancer2['Count'])"
   ]
  },
  {
   "cell_type": "code",
   "execution_count": 44,
   "id": "976be739",
   "metadata": {},
   "outputs": [],
   "source": [
    "Cancer2['PopulationSQRT'] = np.sqrt(Cancer2['Population'])"
   ]
  },
  {
   "cell_type": "markdown",
   "id": "451dcc19",
   "metadata": {},
   "source": [
    "### Using np.log()"
   ]
  },
  {
   "cell_type": "code",
   "execution_count": 45,
   "id": "77bbff6a",
   "metadata": {},
   "outputs": [
    {
     "name": "stderr",
     "output_type": "stream",
     "text": [
      "C:\\Users\\Aarons\\anaconda3\\lib\\site-packages\\pandas\\core\\arraylike.py:358: RuntimeWarning: divide by zero encountered in log\n",
      "  result = getattr(ufunc, method)(*inputs, **kwargs)\n"
     ]
    }
   ],
   "source": [
    "Cancer2['CountLOG'] = np.log(Cancer2['Count'])"
   ]
  },
  {
   "cell_type": "code",
   "execution_count": 46,
   "id": "6893eae4",
   "metadata": {},
   "outputs": [],
   "source": [
    "Cancer2['PopulationLOG'] = np.log(Cancer2['Population'])"
   ]
  },
  {
   "cell_type": "markdown",
   "id": "feb816c3",
   "metadata": {},
   "source": [
    "### Dealing with Infinite Data"
   ]
  },
  {
   "cell_type": "code",
   "execution_count": 47,
   "id": "597f1794",
   "metadata": {},
   "outputs": [],
   "source": [
    "Cancer2.dropna(inplace=True)"
   ]
  },
  {
   "cell_type": "code",
   "execution_count": 49,
   "id": "3ca03a79",
   "metadata": {},
   "outputs": [
    {
     "data": {
      "text/plain": [
       "<AxesSubplot:>"
      ]
     },
     "execution_count": 49,
     "metadata": {},
     "output_type": "execute_result"
    },
    {
     "data": {
      "image/png": "[encoded data removed]",
      "text/plain": [
       "<Figure size 432x288 with 1 Axes>"
      ]
     },
     "metadata": {
      "needs_background": "light"
     },
     "output_type": "display_data"
    }
   ],
   "source": [
    "Cancer2.PopulationLOG.hist()"
   ]
  },
  {
   "cell_type": "code",
   "execution_count": 50,
   "id": "e7335799",
   "metadata": {},
   "outputs": [
    {
     "data": {
      "text/plain": [
       "<AxesSubplot:>"
      ]
     },
     "execution_count": 50,
     "metadata": {},
     "output_type": "execute_result"
    },
    {
     "data": {
      "image/png": "[encoded data removed]",
      "text/plain": [
       "<Figure size 432x288 with 1 Axes>"
      ]
     },
     "metadata": {
      "needs_background": "light"
     },
     "output_type": "display_data"
    }
   ],
   "source": [
    "Cancer2.CountSQRT.hist()"
   ]
  },
  {
   "cell_type": "code",
   "execution_count": null,
   "id": "1093118d",
   "metadata": {},
   "outputs": [],
   "source": []
  }
 ],
 "metadata": {
  "kernelspec": {
   "display_name": "Python 3",
   "language": "python",
   "name": "python3"
  },
  "language_info": {
   "codemirror_mode": {
    "name": "ipython",
    "version": 3
   },
   "file_extension": ".py",
   "mimetype": "text/x-python",
   "name": "python",
   "nbconvert_exporter": "python",
   "pygments_lexer": "ipython3",
   "version": "3.8.8"
  }
 },
 "nbformat": 4,
 "nbformat_minor": 5
}
